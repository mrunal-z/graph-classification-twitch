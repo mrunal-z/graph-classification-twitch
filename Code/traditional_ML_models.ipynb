{
  "nbformat": 4,
  "nbformat_minor": 0,
  "metadata": {
    "colab": {
      "provenance": []
    },
    "kernelspec": {
      "name": "python3",
      "display_name": "Python 3"
    },
    "language_info": {
      "name": "python"
    }
  },
  "cells": [
    {
      "cell_type": "code",
      "source": [
        "import pandas as pd\n",
        "import ast\n",
        "import numpy as np\n",
        "import networkx as nx\n",
        "from random import random\n",
        "\n",
        "from sklearn.model_selection import train_test_split\n",
        "from sklearn.svm import SVC\n",
        "from sklearn.metrics import accuracy_score\n",
        "\n",
        "from sklearn.metrics import f1_score, classification_report, confusion_matrix, ConfusionMatrixDisplay\n",
        "from sklearn.ensemble import RandomForestClassifier\n",
        "from sklearn.preprocessing import MinMaxScaler, StandardScaler\n",
        "from sklearn.linear_model import LogisticRegression\n",
        "import matplotlib.pyplot as plt\n",
        "%matplotlib inline\n",
        "\n"
      ],
      "metadata": {
        "id": "HEWALF3s_Ls1"
      },
      "execution_count": null,
      "outputs": []
    },
    {
      "cell_type": "code",
      "source": [
        "from google.colab import drive\n",
        "drive.mount('/content/drive')"
      ],
      "metadata": {
        "colab": {
          "base_uri": "https://localhost:8080/"
        },
        "id": "Hx5-bOI9_P8W",
        "outputId": "262b9c68-20c7-4f99-831c-adc66a4f4b9a"
      },
      "execution_count": null,
      "outputs": [
        {
          "output_type": "stream",
          "name": "stdout",
          "text": [
            "Drive already mounted at /content/drive; to attempt to forcibly remount, call drive.mount(\"/content/drive\", force_remount=True).\n"
          ]
        }
      ]
    },
    {
      "cell_type": "code",
      "source": [
        "# read in individual datasets and create combined dataset\n",
        "# comment out this code if re-running\n",
        "num_rows = 10000\n",
        "\n",
        "data_df = pd.read_csv('/content/drive/MyDrive/Twitch_Dataset/new_graphs_dataset.csv', nrows=num_rows, usecols=['GraphID', 'Nodes', 'Edges'])\n",
        "labels_df = pd.read_csv('/content/drive/MyDrive/Twitch_Dataset/twitch_egos_graph_labels.txt', nrows=num_rows, header=None)\n",
        "labels_df = labels_df.rename(columns={0: 'Labels'})\n",
        "\n",
        "df = pd.concat([data_df, labels_df], axis=1)\n",
        "df.head()"
      ],
      "metadata": {
        "colab": {
          "base_uri": "https://localhost:8080/",
          "height": 206
        },
        "id": "KAjqs_FS_NhU",
        "outputId": "89e95e27-9c97-409e-e498-4862cb5c0ee6"
      },
      "execution_count": null,
      "outputs": [
        {
          "output_type": "execute_result",
          "data": {
            "text/plain": [
              "   GraphID                                              Nodes  \\\n",
              "0        1  [0, 1, 2, 3, 4, 5, 6, 7, 8, 9, 10, 11, 12, 13,...   \n",
              "1        2  [0, 1, 2, 3, 4, 5, 6, 7, 8, 9, 10, 11, 12, 13,...   \n",
              "2        3  [0, 1, 2, 3, 4, 5, 6, 7, 8, 9, 10, 11, 12, 13,...   \n",
              "3        4  [0, 1, 2, 3, 4, 5, 6, 7, 8, 9, 10, 11, 12, 13,...   \n",
              "4        5  [0, 1, 2, 3, 4, 5, 6, 7, 8, 9, 10, 11, 12, 13,...   \n",
              "\n",
              "                                               Edges  Labels  \n",
              "0  [[35, 0], [0, 35], [35, 1], [1, 35], [35, 2], ...       0  \n",
              "1  [[40, 0], [0, 40], [40, 1], [1, 40], [40, 2], ...       0  \n",
              "2  [[31, 0], [0, 31], [31, 1], [1, 31], [31, 2], ...       0  \n",
              "3  [[37, 0], [0, 37], [37, 1], [1, 37], [37, 2], ...       1  \n",
              "4  [[21, 0], [0, 21], [21, 1], [1, 21], [21, 2], ...       0  "
            ],
            "text/html": [
              "\n",
              "  <div id=\"df-ed58176c-2db0-4437-84ef-9d0abf0bd4d9\">\n",
              "    <div class=\"colab-df-container\">\n",
              "      <div>\n",
              "<style scoped>\n",
              "    .dataframe tbody tr th:only-of-type {\n",
              "        vertical-align: middle;\n",
              "    }\n",
              "\n",
              "    .dataframe tbody tr th {\n",
              "        vertical-align: top;\n",
              "    }\n",
              "\n",
              "    .dataframe thead th {\n",
              "        text-align: right;\n",
              "    }\n",
              "</style>\n",
              "<table border=\"1\" class=\"dataframe\">\n",
              "  <thead>\n",
              "    <tr style=\"text-align: right;\">\n",
              "      <th></th>\n",
              "      <th>GraphID</th>\n",
              "      <th>Nodes</th>\n",
              "      <th>Edges</th>\n",
              "      <th>Labels</th>\n",
              "    </tr>\n",
              "  </thead>\n",
              "  <tbody>\n",
              "    <tr>\n",
              "      <th>0</th>\n",
              "      <td>1</td>\n",
              "      <td>[0, 1, 2, 3, 4, 5, 6, 7, 8, 9, 10, 11, 12, 13,...</td>\n",
              "      <td>[[35, 0], [0, 35], [35, 1], [1, 35], [35, 2], ...</td>\n",
              "      <td>0</td>\n",
              "    </tr>\n",
              "    <tr>\n",
              "      <th>1</th>\n",
              "      <td>2</td>\n",
              "      <td>[0, 1, 2, 3, 4, 5, 6, 7, 8, 9, 10, 11, 12, 13,...</td>\n",
              "      <td>[[40, 0], [0, 40], [40, 1], [1, 40], [40, 2], ...</td>\n",
              "      <td>0</td>\n",
              "    </tr>\n",
              "    <tr>\n",
              "      <th>2</th>\n",
              "      <td>3</td>\n",
              "      <td>[0, 1, 2, 3, 4, 5, 6, 7, 8, 9, 10, 11, 12, 13,...</td>\n",
              "      <td>[[31, 0], [0, 31], [31, 1], [1, 31], [31, 2], ...</td>\n",
              "      <td>0</td>\n",
              "    </tr>\n",
              "    <tr>\n",
              "      <th>3</th>\n",
              "      <td>4</td>\n",
              "      <td>[0, 1, 2, 3, 4, 5, 6, 7, 8, 9, 10, 11, 12, 13,...</td>\n",
              "      <td>[[37, 0], [0, 37], [37, 1], [1, 37], [37, 2], ...</td>\n",
              "      <td>1</td>\n",
              "    </tr>\n",
              "    <tr>\n",
              "      <th>4</th>\n",
              "      <td>5</td>\n",
              "      <td>[0, 1, 2, 3, 4, 5, 6, 7, 8, 9, 10, 11, 12, 13,...</td>\n",
              "      <td>[[21, 0], [0, 21], [21, 1], [1, 21], [21, 2], ...</td>\n",
              "      <td>0</td>\n",
              "    </tr>\n",
              "  </tbody>\n",
              "</table>\n",
              "</div>\n",
              "      <button class=\"colab-df-convert\" onclick=\"convertToInteractive('df-ed58176c-2db0-4437-84ef-9d0abf0bd4d9')\"\n",
              "              title=\"Convert this dataframe to an interactive table.\"\n",
              "              style=\"display:none;\">\n",
              "        \n",
              "  <svg xmlns=\"http://www.w3.org/2000/svg\" height=\"24px\"viewBox=\"0 0 24 24\"\n",
              "       width=\"24px\">\n",
              "    <path d=\"M0 0h24v24H0V0z\" fill=\"none\"/>\n",
              "    <path d=\"M18.56 5.44l.94 2.06.94-2.06 2.06-.94-2.06-.94-.94-2.06-.94 2.06-2.06.94zm-11 1L8.5 8.5l.94-2.06 2.06-.94-2.06-.94L8.5 2.5l-.94 2.06-2.06.94zm10 10l.94 2.06.94-2.06 2.06-.94-2.06-.94-.94-2.06-.94 2.06-2.06.94z\"/><path d=\"M17.41 7.96l-1.37-1.37c-.4-.4-.92-.59-1.43-.59-.52 0-1.04.2-1.43.59L10.3 9.45l-7.72 7.72c-.78.78-.78 2.05 0 2.83L4 21.41c.39.39.9.59 1.41.59.51 0 1.02-.2 1.41-.59l7.78-7.78 2.81-2.81c.8-.78.8-2.07 0-2.86zM5.41 20L4 18.59l7.72-7.72 1.47 1.35L5.41 20z\"/>\n",
              "  </svg>\n",
              "      </button>\n",
              "      \n",
              "  <style>\n",
              "    .colab-df-container {\n",
              "      display:flex;\n",
              "      flex-wrap:wrap;\n",
              "      gap: 12px;\n",
              "    }\n",
              "\n",
              "    .colab-df-convert {\n",
              "      background-color: #E8F0FE;\n",
              "      border: none;\n",
              "      border-radius: 50%;\n",
              "      cursor: pointer;\n",
              "      display: none;\n",
              "      fill: #1967D2;\n",
              "      height: 32px;\n",
              "      padding: 0 0 0 0;\n",
              "      width: 32px;\n",
              "    }\n",
              "\n",
              "    .colab-df-convert:hover {\n",
              "      background-color: #E2EBFA;\n",
              "      box-shadow: 0px 1px 2px rgba(60, 64, 67, 0.3), 0px 1px 3px 1px rgba(60, 64, 67, 0.15);\n",
              "      fill: #174EA6;\n",
              "    }\n",
              "\n",
              "    [theme=dark] .colab-df-convert {\n",
              "      background-color: #3B4455;\n",
              "      fill: #D2E3FC;\n",
              "    }\n",
              "\n",
              "    [theme=dark] .colab-df-convert:hover {\n",
              "      background-color: #434B5C;\n",
              "      box-shadow: 0px 1px 3px 1px rgba(0, 0, 0, 0.15);\n",
              "      filter: drop-shadow(0px 1px 2px rgba(0, 0, 0, 0.3));\n",
              "      fill: #FFFFFF;\n",
              "    }\n",
              "  </style>\n",
              "\n",
              "      <script>\n",
              "        const buttonEl =\n",
              "          document.querySelector('#df-ed58176c-2db0-4437-84ef-9d0abf0bd4d9 button.colab-df-convert');\n",
              "        buttonEl.style.display =\n",
              "          google.colab.kernel.accessAllowed ? 'block' : 'none';\n",
              "\n",
              "        async function convertToInteractive(key) {\n",
              "          const element = document.querySelector('#df-ed58176c-2db0-4437-84ef-9d0abf0bd4d9');\n",
              "          const dataTable =\n",
              "            await google.colab.kernel.invokeFunction('convertToInteractive',\n",
              "                                                     [key], {});\n",
              "          if (!dataTable) return;\n",
              "\n",
              "          const docLinkHtml = 'Like what you see? Visit the ' +\n",
              "            '<a target=\"_blank\" href=https://colab.research.google.com/notebooks/data_table.ipynb>data table notebook</a>'\n",
              "            + ' to learn more about interactive tables.';\n",
              "          element.innerHTML = '';\n",
              "          dataTable['output_type'] = 'display_data';\n",
              "          await google.colab.output.renderOutput(dataTable, element);\n",
              "          const docLink = document.createElement('div');\n",
              "          docLink.innerHTML = docLinkHtml;\n",
              "          element.appendChild(docLink);\n",
              "        }\n",
              "      </script>\n",
              "    </div>\n",
              "  </div>\n",
              "  "
            ]
          },
          "metadata": {},
          "execution_count": 3
        }
      ]
    },
    {
      "cell_type": "code",
      "source": [
        "num_rows = 1000 # specify the number of rows you want to select for each class\n",
        "df_0 = df[df['Labels'] == 0].sample(num_rows, random_state=7)\n",
        "df_1 = df[df['Labels'] == 1].sample(num_rows, random_state=7)\n",
        "df_balanced = pd.concat([df_0, df_1])"
      ],
      "metadata": {
        "id": "A4mTDfq3L5Vm"
      },
      "execution_count": null,
      "outputs": []
    },
    {
      "cell_type": "code",
      "source": [
        "df_balanced.info()"
      ],
      "metadata": {
        "colab": {
          "base_uri": "https://localhost:8080/"
        },
        "id": "n4DaoPCe_oSB",
        "outputId": "87cd9a00-9e59-4ca0-81e6-9345c91fb75d"
      },
      "execution_count": null,
      "outputs": [
        {
          "output_type": "stream",
          "name": "stdout",
          "text": [
            "<class 'pandas.core.frame.DataFrame'>\n",
            "Int64Index: 2000 entries, 4254 to 6298\n",
            "Data columns (total 4 columns):\n",
            " #   Column   Non-Null Count  Dtype \n",
            "---  ------   --------------  ----- \n",
            " 0   GraphID  2000 non-null   int64 \n",
            " 1   Nodes    2000 non-null   object\n",
            " 2   Edges    2000 non-null   object\n",
            " 3   Labels   2000 non-null   int64 \n",
            "dtypes: int64(2), object(2)\n",
            "memory usage: 78.1+ KB\n"
          ]
        }
      ]
    },
    {
      "cell_type": "code",
      "source": [
        "# save balanced dataset to csv for use next time\n",
        "df_balanced.to_csv('/content/balanced_dataset_2000_graphs.csv', index=False)"
      ],
      "metadata": {
        "id": "O0p7JAXWVKAo"
      },
      "execution_count": null,
      "outputs": []
    },
    {
      "cell_type": "code",
      "source": [
        "# read in balanced dataset for use in classification\n",
        "df_balanced = pd.read_csv('/content/drive/MyDrive/Twitch_Dataset/balanced_dataset_2000_graphs.csv', usecols=['GraphID', 'Nodes', 'Edges', 'Labels'])\n",
        "df_balanced"
      ],
      "metadata": {
        "colab": {
          "base_uri": "https://localhost:8080/",
          "height": 424
        },
        "id": "YKAVFVkLW2S6",
        "outputId": "d478ca79-6091-4250-fb08-b0b5471f98b4"
      },
      "execution_count": null,
      "outputs": [
        {
          "output_type": "execute_result",
          "data": {
            "text/plain": [
              "      GraphID                                              Nodes  \\\n",
              "0        4255  [0, 1, 2, 3, 4, 5, 6, 7, 8, 9, 10, 11, 12, 13,...   \n",
              "1         343  [0, 1, 2, 3, 4, 5, 6, 7, 8, 9, 10, 11, 12, 13,...   \n",
              "2        1319  [0, 1, 2, 3, 4, 5, 6, 7, 8, 9, 10, 11, 12, 13,...   \n",
              "3        2464  [0, 1, 2, 3, 4, 5, 6, 7, 8, 9, 10, 11, 12, 13,...   \n",
              "4        2068     [0, 1, 2, 3, 4, 5, 6, 7, 8, 9, 10, 11, 12, 13]   \n",
              "...       ...                                                ...   \n",
              "1995     8676  [0, 1, 2, 3, 4, 5, 6, 7, 8, 9, 10, 11, 12, 13,...   \n",
              "1996     8938  [0, 1, 2, 3, 4, 5, 6, 7, 8, 9, 10, 11, 12, 13,...   \n",
              "1997     3437  [0, 1, 2, 3, 4, 5, 6, 7, 8, 9, 10, 11, 12, 13,...   \n",
              "1998     1235  [0, 1, 2, 3, 4, 5, 6, 7, 8, 9, 10, 11, 12, 13,...   \n",
              "1999     6299  [0, 1, 2, 3, 4, 5, 6, 7, 8, 9, 10, 11, 12, 13,...   \n",
              "\n",
              "                                                  Edges  Labels  \n",
              "0     [[43, 0], [0, 43], [43, 1], [1, 43], [43, 2], ...       0  \n",
              "1     [[45, 0], [0, 45], [45, 1], [1, 45], [45, 2], ...       0  \n",
              "2     [[43, 0], [0, 43], [43, 1], [1, 43], [43, 2], ...       0  \n",
              "3     [[24, 0], [0, 24], [24, 1], [1, 24], [24, 2], ...       0  \n",
              "4     [[13, 0], [0, 13], [13, 1], [1, 13], [13, 2], ...       0  \n",
              "...                                                 ...     ...  \n",
              "1995  [[18, 0], [0, 18], [18, 1], [1, 18], [18, 2], ...       1  \n",
              "1996  [[41, 0], [0, 41], [41, 1], [1, 41], [41, 2], ...       1  \n",
              "1997  [[27, 0], [0, 27], [27, 1], [1, 27], [27, 2], ...       1  \n",
              "1998  [[23, 0], [0, 23], [23, 1], [1, 23], [23, 2], ...       1  \n",
              "1999  [[26, 0], [0, 26], [26, 1], [1, 26], [26, 2], ...       1  \n",
              "\n",
              "[2000 rows x 4 columns]"
            ],
            "text/html": [
              "\n",
              "  <div id=\"df-e00bab26-b30e-4fc9-92b0-490b99c4e07d\">\n",
              "    <div class=\"colab-df-container\">\n",
              "      <div>\n",
              "<style scoped>\n",
              "    .dataframe tbody tr th:only-of-type {\n",
              "        vertical-align: middle;\n",
              "    }\n",
              "\n",
              "    .dataframe tbody tr th {\n",
              "        vertical-align: top;\n",
              "    }\n",
              "\n",
              "    .dataframe thead th {\n",
              "        text-align: right;\n",
              "    }\n",
              "</style>\n",
              "<table border=\"1\" class=\"dataframe\">\n",
              "  <thead>\n",
              "    <tr style=\"text-align: right;\">\n",
              "      <th></th>\n",
              "      <th>GraphID</th>\n",
              "      <th>Nodes</th>\n",
              "      <th>Edges</th>\n",
              "      <th>Labels</th>\n",
              "    </tr>\n",
              "  </thead>\n",
              "  <tbody>\n",
              "    <tr>\n",
              "      <th>0</th>\n",
              "      <td>4255</td>\n",
              "      <td>[0, 1, 2, 3, 4, 5, 6, 7, 8, 9, 10, 11, 12, 13,...</td>\n",
              "      <td>[[43, 0], [0, 43], [43, 1], [1, 43], [43, 2], ...</td>\n",
              "      <td>0</td>\n",
              "    </tr>\n",
              "    <tr>\n",
              "      <th>1</th>\n",
              "      <td>343</td>\n",
              "      <td>[0, 1, 2, 3, 4, 5, 6, 7, 8, 9, 10, 11, 12, 13,...</td>\n",
              "      <td>[[45, 0], [0, 45], [45, 1], [1, 45], [45, 2], ...</td>\n",
              "      <td>0</td>\n",
              "    </tr>\n",
              "    <tr>\n",
              "      <th>2</th>\n",
              "      <td>1319</td>\n",
              "      <td>[0, 1, 2, 3, 4, 5, 6, 7, 8, 9, 10, 11, 12, 13,...</td>\n",
              "      <td>[[43, 0], [0, 43], [43, 1], [1, 43], [43, 2], ...</td>\n",
              "      <td>0</td>\n",
              "    </tr>\n",
              "    <tr>\n",
              "      <th>3</th>\n",
              "      <td>2464</td>\n",
              "      <td>[0, 1, 2, 3, 4, 5, 6, 7, 8, 9, 10, 11, 12, 13,...</td>\n",
              "      <td>[[24, 0], [0, 24], [24, 1], [1, 24], [24, 2], ...</td>\n",
              "      <td>0</td>\n",
              "    </tr>\n",
              "    <tr>\n",
              "      <th>4</th>\n",
              "      <td>2068</td>\n",
              "      <td>[0, 1, 2, 3, 4, 5, 6, 7, 8, 9, 10, 11, 12, 13]</td>\n",
              "      <td>[[13, 0], [0, 13], [13, 1], [1, 13], [13, 2], ...</td>\n",
              "      <td>0</td>\n",
              "    </tr>\n",
              "    <tr>\n",
              "      <th>...</th>\n",
              "      <td>...</td>\n",
              "      <td>...</td>\n",
              "      <td>...</td>\n",
              "      <td>...</td>\n",
              "    </tr>\n",
              "    <tr>\n",
              "      <th>1995</th>\n",
              "      <td>8676</td>\n",
              "      <td>[0, 1, 2, 3, 4, 5, 6, 7, 8, 9, 10, 11, 12, 13,...</td>\n",
              "      <td>[[18, 0], [0, 18], [18, 1], [1, 18], [18, 2], ...</td>\n",
              "      <td>1</td>\n",
              "    </tr>\n",
              "    <tr>\n",
              "      <th>1996</th>\n",
              "      <td>8938</td>\n",
              "      <td>[0, 1, 2, 3, 4, 5, 6, 7, 8, 9, 10, 11, 12, 13,...</td>\n",
              "      <td>[[41, 0], [0, 41], [41, 1], [1, 41], [41, 2], ...</td>\n",
              "      <td>1</td>\n",
              "    </tr>\n",
              "    <tr>\n",
              "      <th>1997</th>\n",
              "      <td>3437</td>\n",
              "      <td>[0, 1, 2, 3, 4, 5, 6, 7, 8, 9, 10, 11, 12, 13,...</td>\n",
              "      <td>[[27, 0], [0, 27], [27, 1], [1, 27], [27, 2], ...</td>\n",
              "      <td>1</td>\n",
              "    </tr>\n",
              "    <tr>\n",
              "      <th>1998</th>\n",
              "      <td>1235</td>\n",
              "      <td>[0, 1, 2, 3, 4, 5, 6, 7, 8, 9, 10, 11, 12, 13,...</td>\n",
              "      <td>[[23, 0], [0, 23], [23, 1], [1, 23], [23, 2], ...</td>\n",
              "      <td>1</td>\n",
              "    </tr>\n",
              "    <tr>\n",
              "      <th>1999</th>\n",
              "      <td>6299</td>\n",
              "      <td>[0, 1, 2, 3, 4, 5, 6, 7, 8, 9, 10, 11, 12, 13,...</td>\n",
              "      <td>[[26, 0], [0, 26], [26, 1], [1, 26], [26, 2], ...</td>\n",
              "      <td>1</td>\n",
              "    </tr>\n",
              "  </tbody>\n",
              "</table>\n",
              "<p>2000 rows × 4 columns</p>\n",
              "</div>\n",
              "      <button class=\"colab-df-convert\" onclick=\"convertToInteractive('df-e00bab26-b30e-4fc9-92b0-490b99c4e07d')\"\n",
              "              title=\"Convert this dataframe to an interactive table.\"\n",
              "              style=\"display:none;\">\n",
              "        \n",
              "  <svg xmlns=\"http://www.w3.org/2000/svg\" height=\"24px\"viewBox=\"0 0 24 24\"\n",
              "       width=\"24px\">\n",
              "    <path d=\"M0 0h24v24H0V0z\" fill=\"none\"/>\n",
              "    <path d=\"M18.56 5.44l.94 2.06.94-2.06 2.06-.94-2.06-.94-.94-2.06-.94 2.06-2.06.94zm-11 1L8.5 8.5l.94-2.06 2.06-.94-2.06-.94L8.5 2.5l-.94 2.06-2.06.94zm10 10l.94 2.06.94-2.06 2.06-.94-2.06-.94-.94-2.06-.94 2.06-2.06.94z\"/><path d=\"M17.41 7.96l-1.37-1.37c-.4-.4-.92-.59-1.43-.59-.52 0-1.04.2-1.43.59L10.3 9.45l-7.72 7.72c-.78.78-.78 2.05 0 2.83L4 21.41c.39.39.9.59 1.41.59.51 0 1.02-.2 1.41-.59l7.78-7.78 2.81-2.81c.8-.78.8-2.07 0-2.86zM5.41 20L4 18.59l7.72-7.72 1.47 1.35L5.41 20z\"/>\n",
              "  </svg>\n",
              "      </button>\n",
              "      \n",
              "  <style>\n",
              "    .colab-df-container {\n",
              "      display:flex;\n",
              "      flex-wrap:wrap;\n",
              "      gap: 12px;\n",
              "    }\n",
              "\n",
              "    .colab-df-convert {\n",
              "      background-color: #E8F0FE;\n",
              "      border: none;\n",
              "      border-radius: 50%;\n",
              "      cursor: pointer;\n",
              "      display: none;\n",
              "      fill: #1967D2;\n",
              "      height: 32px;\n",
              "      padding: 0 0 0 0;\n",
              "      width: 32px;\n",
              "    }\n",
              "\n",
              "    .colab-df-convert:hover {\n",
              "      background-color: #E2EBFA;\n",
              "      box-shadow: 0px 1px 2px rgba(60, 64, 67, 0.3), 0px 1px 3px 1px rgba(60, 64, 67, 0.15);\n",
              "      fill: #174EA6;\n",
              "    }\n",
              "\n",
              "    [theme=dark] .colab-df-convert {\n",
              "      background-color: #3B4455;\n",
              "      fill: #D2E3FC;\n",
              "    }\n",
              "\n",
              "    [theme=dark] .colab-df-convert:hover {\n",
              "      background-color: #434B5C;\n",
              "      box-shadow: 0px 1px 3px 1px rgba(0, 0, 0, 0.15);\n",
              "      filter: drop-shadow(0px 1px 2px rgba(0, 0, 0, 0.3));\n",
              "      fill: #FFFFFF;\n",
              "    }\n",
              "  </style>\n",
              "\n",
              "      <script>\n",
              "        const buttonEl =\n",
              "          document.querySelector('#df-e00bab26-b30e-4fc9-92b0-490b99c4e07d button.colab-df-convert');\n",
              "        buttonEl.style.display =\n",
              "          google.colab.kernel.accessAllowed ? 'block' : 'none';\n",
              "\n",
              "        async function convertToInteractive(key) {\n",
              "          const element = document.querySelector('#df-e00bab26-b30e-4fc9-92b0-490b99c4e07d');\n",
              "          const dataTable =\n",
              "            await google.colab.kernel.invokeFunction('convertToInteractive',\n",
              "                                                     [key], {});\n",
              "          if (!dataTable) return;\n",
              "\n",
              "          const docLinkHtml = 'Like what you see? Visit the ' +\n",
              "            '<a target=\"_blank\" href=https://colab.research.google.com/notebooks/data_table.ipynb>data table notebook</a>'\n",
              "            + ' to learn more about interactive tables.';\n",
              "          element.innerHTML = '';\n",
              "          dataTable['output_type'] = 'display_data';\n",
              "          await google.colab.output.renderOutput(dataTable, element);\n",
              "          const docLink = document.createElement('div');\n",
              "          docLink.innerHTML = docLinkHtml;\n",
              "          element.appendChild(docLink);\n",
              "        }\n",
              "      </script>\n",
              "    </div>\n",
              "  </div>\n",
              "  "
            ]
          },
          "metadata": {},
          "execution_count": 3
        }
      ]
    },
    {
      "cell_type": "markdown",
      "source": [
        "## Using number of nodes, edges and density as features"
      ],
      "metadata": {
        "id": "zbayL6AB9qRL"
      }
    },
    {
      "cell_type": "code",
      "source": [
        "import ast\n",
        "\n",
        "# create a new dataframe to store graph features\n",
        "graph_features = pd.DataFrame(columns=['num_edges', 'num_nodes', 'density'])\n",
        "\n",
        "new_rows = []\n",
        "graph_labels = []\n",
        "\n",
        "for row in df_balanced.itertuples():\n",
        "  G = nx.Graph()\n",
        "  edges = ast.literal_eval(row.Edges)\n",
        "  nodes = ast.literal_eval(row.Nodes)\n",
        "  G.add_edges_from(edges)\n",
        "  G.add_nodes_from(nodes)\n",
        "  density = nx.density(G)\n",
        "  new_rows.append({ 'num_edges': len(G.edges()), 'num_nodes': len(G.nodes()), 'density': density})\n",
        "  graph_labels.append(int(row.Labels))\n",
        "\n",
        "graph_features = graph_features.append(new_rows)"
      ],
      "metadata": {
        "id": "qa8bZHRY9vSI"
      },
      "execution_count": null,
      "outputs": []
    },
    {
      "cell_type": "code",
      "source": [
        "#graph_features"
      ],
      "metadata": {
        "colab": {
          "base_uri": "https://localhost:8080/",
          "height": 424
        },
        "id": "oVLqKgCS90zs",
        "outputId": "b7251944-7023-4558-aa0b-86213404bec8"
      },
      "execution_count": null,
      "outputs": [
        {
          "output_type": "execute_result",
          "data": {
            "text/plain": [
              "     num_edges num_nodes   density\n",
              "0          133        44  0.140592\n",
              "1          323        46  0.312077\n",
              "2           95        44  0.100423\n",
              "3           29        25  0.096667\n",
              "4           13        14  0.142857\n",
              "...        ...       ...       ...\n",
              "1995        22        19  0.128655\n",
              "1996       102        42  0.118467\n",
              "1997        99        28  0.261905\n",
              "1998        55        24  0.199275\n",
              "1999        64        27  0.182336\n",
              "\n",
              "[2000 rows x 3 columns]"
            ],
            "text/html": [
              "\n",
              "  <div id=\"df-a31dcc57-2d5b-4cce-bcb7-9fe6dd835f20\">\n",
              "    <div class=\"colab-df-container\">\n",
              "      <div>\n",
              "<style scoped>\n",
              "    .dataframe tbody tr th:only-of-type {\n",
              "        vertical-align: middle;\n",
              "    }\n",
              "\n",
              "    .dataframe tbody tr th {\n",
              "        vertical-align: top;\n",
              "    }\n",
              "\n",
              "    .dataframe thead th {\n",
              "        text-align: right;\n",
              "    }\n",
              "</style>\n",
              "<table border=\"1\" class=\"dataframe\">\n",
              "  <thead>\n",
              "    <tr style=\"text-align: right;\">\n",
              "      <th></th>\n",
              "      <th>num_edges</th>\n",
              "      <th>num_nodes</th>\n",
              "      <th>density</th>\n",
              "    </tr>\n",
              "  </thead>\n",
              "  <tbody>\n",
              "    <tr>\n",
              "      <th>0</th>\n",
              "      <td>133</td>\n",
              "      <td>44</td>\n",
              "      <td>0.140592</td>\n",
              "    </tr>\n",
              "    <tr>\n",
              "      <th>1</th>\n",
              "      <td>323</td>\n",
              "      <td>46</td>\n",
              "      <td>0.312077</td>\n",
              "    </tr>\n",
              "    <tr>\n",
              "      <th>2</th>\n",
              "      <td>95</td>\n",
              "      <td>44</td>\n",
              "      <td>0.100423</td>\n",
              "    </tr>\n",
              "    <tr>\n",
              "      <th>3</th>\n",
              "      <td>29</td>\n",
              "      <td>25</td>\n",
              "      <td>0.096667</td>\n",
              "    </tr>\n",
              "    <tr>\n",
              "      <th>4</th>\n",
              "      <td>13</td>\n",
              "      <td>14</td>\n",
              "      <td>0.142857</td>\n",
              "    </tr>\n",
              "    <tr>\n",
              "      <th>...</th>\n",
              "      <td>...</td>\n",
              "      <td>...</td>\n",
              "      <td>...</td>\n",
              "    </tr>\n",
              "    <tr>\n",
              "      <th>1995</th>\n",
              "      <td>22</td>\n",
              "      <td>19</td>\n",
              "      <td>0.128655</td>\n",
              "    </tr>\n",
              "    <tr>\n",
              "      <th>1996</th>\n",
              "      <td>102</td>\n",
              "      <td>42</td>\n",
              "      <td>0.118467</td>\n",
              "    </tr>\n",
              "    <tr>\n",
              "      <th>1997</th>\n",
              "      <td>99</td>\n",
              "      <td>28</td>\n",
              "      <td>0.261905</td>\n",
              "    </tr>\n",
              "    <tr>\n",
              "      <th>1998</th>\n",
              "      <td>55</td>\n",
              "      <td>24</td>\n",
              "      <td>0.199275</td>\n",
              "    </tr>\n",
              "    <tr>\n",
              "      <th>1999</th>\n",
              "      <td>64</td>\n",
              "      <td>27</td>\n",
              "      <td>0.182336</td>\n",
              "    </tr>\n",
              "  </tbody>\n",
              "</table>\n",
              "<p>2000 rows × 3 columns</p>\n",
              "</div>\n",
              "      <button class=\"colab-df-convert\" onclick=\"convertToInteractive('df-a31dcc57-2d5b-4cce-bcb7-9fe6dd835f20')\"\n",
              "              title=\"Convert this dataframe to an interactive table.\"\n",
              "              style=\"display:none;\">\n",
              "        \n",
              "  <svg xmlns=\"http://www.w3.org/2000/svg\" height=\"24px\"viewBox=\"0 0 24 24\"\n",
              "       width=\"24px\">\n",
              "    <path d=\"M0 0h24v24H0V0z\" fill=\"none\"/>\n",
              "    <path d=\"M18.56 5.44l.94 2.06.94-2.06 2.06-.94-2.06-.94-.94-2.06-.94 2.06-2.06.94zm-11 1L8.5 8.5l.94-2.06 2.06-.94-2.06-.94L8.5 2.5l-.94 2.06-2.06.94zm10 10l.94 2.06.94-2.06 2.06-.94-2.06-.94-.94-2.06-.94 2.06-2.06.94z\"/><path d=\"M17.41 7.96l-1.37-1.37c-.4-.4-.92-.59-1.43-.59-.52 0-1.04.2-1.43.59L10.3 9.45l-7.72 7.72c-.78.78-.78 2.05 0 2.83L4 21.41c.39.39.9.59 1.41.59.51 0 1.02-.2 1.41-.59l7.78-7.78 2.81-2.81c.8-.78.8-2.07 0-2.86zM5.41 20L4 18.59l7.72-7.72 1.47 1.35L5.41 20z\"/>\n",
              "  </svg>\n",
              "      </button>\n",
              "      \n",
              "  <style>\n",
              "    .colab-df-container {\n",
              "      display:flex;\n",
              "      flex-wrap:wrap;\n",
              "      gap: 12px;\n",
              "    }\n",
              "\n",
              "    .colab-df-convert {\n",
              "      background-color: #E8F0FE;\n",
              "      border: none;\n",
              "      border-radius: 50%;\n",
              "      cursor: pointer;\n",
              "      display: none;\n",
              "      fill: #1967D2;\n",
              "      height: 32px;\n",
              "      padding: 0 0 0 0;\n",
              "      width: 32px;\n",
              "    }\n",
              "\n",
              "    .colab-df-convert:hover {\n",
              "      background-color: #E2EBFA;\n",
              "      box-shadow: 0px 1px 2px rgba(60, 64, 67, 0.3), 0px 1px 3px 1px rgba(60, 64, 67, 0.15);\n",
              "      fill: #174EA6;\n",
              "    }\n",
              "\n",
              "    [theme=dark] .colab-df-convert {\n",
              "      background-color: #3B4455;\n",
              "      fill: #D2E3FC;\n",
              "    }\n",
              "\n",
              "    [theme=dark] .colab-df-convert:hover {\n",
              "      background-color: #434B5C;\n",
              "      box-shadow: 0px 1px 3px 1px rgba(0, 0, 0, 0.15);\n",
              "      filter: drop-shadow(0px 1px 2px rgba(0, 0, 0, 0.3));\n",
              "      fill: #FFFFFF;\n",
              "    }\n",
              "  </style>\n",
              "\n",
              "      <script>\n",
              "        const buttonEl =\n",
              "          document.querySelector('#df-a31dcc57-2d5b-4cce-bcb7-9fe6dd835f20 button.colab-df-convert');\n",
              "        buttonEl.style.display =\n",
              "          google.colab.kernel.accessAllowed ? 'block' : 'none';\n",
              "\n",
              "        async function convertToInteractive(key) {\n",
              "          const element = document.querySelector('#df-a31dcc57-2d5b-4cce-bcb7-9fe6dd835f20');\n",
              "          const dataTable =\n",
              "            await google.colab.kernel.invokeFunction('convertToInteractive',\n",
              "                                                     [key], {});\n",
              "          if (!dataTable) return;\n",
              "\n",
              "          const docLinkHtml = 'Like what you see? Visit the ' +\n",
              "            '<a target=\"_blank\" href=https://colab.research.google.com/notebooks/data_table.ipynb>data table notebook</a>'\n",
              "            + ' to learn more about interactive tables.';\n",
              "          element.innerHTML = '';\n",
              "          dataTable['output_type'] = 'display_data';\n",
              "          await google.colab.output.renderOutput(dataTable, element);\n",
              "          const docLink = document.createElement('div');\n",
              "          docLink.innerHTML = docLinkHtml;\n",
              "          element.appendChild(docLink);\n",
              "        }\n",
              "      </script>\n",
              "    </div>\n",
              "  </div>\n",
              "  "
            ]
          },
          "metadata": {},
          "execution_count": 15
        }
      ]
    },
    {
      "cell_type": "code",
      "source": [
        "# split new dataset into 80-20\n",
        "Xtrain_data, Xtest_data, ytrain_data, ytest_data = train_test_split(graph_features, graph_labels, test_size=0.2, random_state=42, stratify=graph_labels)"
      ],
      "metadata": {
        "id": "9qSyLnfPBcHE"
      },
      "execution_count": null,
      "outputs": []
    },
    {
      "cell_type": "code",
      "source": [
        "Xtrain_data"
      ],
      "metadata": {
        "colab": {
          "base_uri": "https://localhost:8080/",
          "height": 424
        },
        "id": "kNR1NvuEGTe6",
        "outputId": "bb1705d3-422f-418f-9fcf-c39490f1d01a"
      },
      "execution_count": null,
      "outputs": [
        {
          "output_type": "execute_result",
          "data": {
            "text/plain": [
              "     num_edges num_nodes   density\n",
              "1478       283        45  0.285859\n",
              "1488       161        41  0.196341\n",
              "499         73        40  0.093590\n",
              "605        171        51  0.134118\n",
              "1511        31        21  0.147619\n",
              "...        ...       ...       ...\n",
              "1240        27        15  0.257143\n",
              "452         20        14  0.219780\n",
              "1248       122        45  0.123232\n",
              "1303       182        38  0.258890\n",
              "1529       397        50  0.324082\n",
              "\n",
              "[1600 rows x 3 columns]"
            ],
            "text/html": [
              "\n",
              "  <div id=\"df-aa3e25d0-970a-47ee-8a15-8600b977ee68\">\n",
              "    <div class=\"colab-df-container\">\n",
              "      <div>\n",
              "<style scoped>\n",
              "    .dataframe tbody tr th:only-of-type {\n",
              "        vertical-align: middle;\n",
              "    }\n",
              "\n",
              "    .dataframe tbody tr th {\n",
              "        vertical-align: top;\n",
              "    }\n",
              "\n",
              "    .dataframe thead th {\n",
              "        text-align: right;\n",
              "    }\n",
              "</style>\n",
              "<table border=\"1\" class=\"dataframe\">\n",
              "  <thead>\n",
              "    <tr style=\"text-align: right;\">\n",
              "      <th></th>\n",
              "      <th>num_edges</th>\n",
              "      <th>num_nodes</th>\n",
              "      <th>density</th>\n",
              "    </tr>\n",
              "  </thead>\n",
              "  <tbody>\n",
              "    <tr>\n",
              "      <th>1478</th>\n",
              "      <td>283</td>\n",
              "      <td>45</td>\n",
              "      <td>0.285859</td>\n",
              "    </tr>\n",
              "    <tr>\n",
              "      <th>1488</th>\n",
              "      <td>161</td>\n",
              "      <td>41</td>\n",
              "      <td>0.196341</td>\n",
              "    </tr>\n",
              "    <tr>\n",
              "      <th>499</th>\n",
              "      <td>73</td>\n",
              "      <td>40</td>\n",
              "      <td>0.093590</td>\n",
              "    </tr>\n",
              "    <tr>\n",
              "      <th>605</th>\n",
              "      <td>171</td>\n",
              "      <td>51</td>\n",
              "      <td>0.134118</td>\n",
              "    </tr>\n",
              "    <tr>\n",
              "      <th>1511</th>\n",
              "      <td>31</td>\n",
              "      <td>21</td>\n",
              "      <td>0.147619</td>\n",
              "    </tr>\n",
              "    <tr>\n",
              "      <th>...</th>\n",
              "      <td>...</td>\n",
              "      <td>...</td>\n",
              "      <td>...</td>\n",
              "    </tr>\n",
              "    <tr>\n",
              "      <th>1240</th>\n",
              "      <td>27</td>\n",
              "      <td>15</td>\n",
              "      <td>0.257143</td>\n",
              "    </tr>\n",
              "    <tr>\n",
              "      <th>452</th>\n",
              "      <td>20</td>\n",
              "      <td>14</td>\n",
              "      <td>0.219780</td>\n",
              "    </tr>\n",
              "    <tr>\n",
              "      <th>1248</th>\n",
              "      <td>122</td>\n",
              "      <td>45</td>\n",
              "      <td>0.123232</td>\n",
              "    </tr>\n",
              "    <tr>\n",
              "      <th>1303</th>\n",
              "      <td>182</td>\n",
              "      <td>38</td>\n",
              "      <td>0.258890</td>\n",
              "    </tr>\n",
              "    <tr>\n",
              "      <th>1529</th>\n",
              "      <td>397</td>\n",
              "      <td>50</td>\n",
              "      <td>0.324082</td>\n",
              "    </tr>\n",
              "  </tbody>\n",
              "</table>\n",
              "<p>1600 rows × 3 columns</p>\n",
              "</div>\n",
              "      <button class=\"colab-df-convert\" onclick=\"convertToInteractive('df-aa3e25d0-970a-47ee-8a15-8600b977ee68')\"\n",
              "              title=\"Convert this dataframe to an interactive table.\"\n",
              "              style=\"display:none;\">\n",
              "        \n",
              "  <svg xmlns=\"http://www.w3.org/2000/svg\" height=\"24px\"viewBox=\"0 0 24 24\"\n",
              "       width=\"24px\">\n",
              "    <path d=\"M0 0h24v24H0V0z\" fill=\"none\"/>\n",
              "    <path d=\"M18.56 5.44l.94 2.06.94-2.06 2.06-.94-2.06-.94-.94-2.06-.94 2.06-2.06.94zm-11 1L8.5 8.5l.94-2.06 2.06-.94-2.06-.94L8.5 2.5l-.94 2.06-2.06.94zm10 10l.94 2.06.94-2.06 2.06-.94-2.06-.94-.94-2.06-.94 2.06-2.06.94z\"/><path d=\"M17.41 7.96l-1.37-1.37c-.4-.4-.92-.59-1.43-.59-.52 0-1.04.2-1.43.59L10.3 9.45l-7.72 7.72c-.78.78-.78 2.05 0 2.83L4 21.41c.39.39.9.59 1.41.59.51 0 1.02-.2 1.41-.59l7.78-7.78 2.81-2.81c.8-.78.8-2.07 0-2.86zM5.41 20L4 18.59l7.72-7.72 1.47 1.35L5.41 20z\"/>\n",
              "  </svg>\n",
              "      </button>\n",
              "      \n",
              "  <style>\n",
              "    .colab-df-container {\n",
              "      display:flex;\n",
              "      flex-wrap:wrap;\n",
              "      gap: 12px;\n",
              "    }\n",
              "\n",
              "    .colab-df-convert {\n",
              "      background-color: #E8F0FE;\n",
              "      border: none;\n",
              "      border-radius: 50%;\n",
              "      cursor: pointer;\n",
              "      display: none;\n",
              "      fill: #1967D2;\n",
              "      height: 32px;\n",
              "      padding: 0 0 0 0;\n",
              "      width: 32px;\n",
              "    }\n",
              "\n",
              "    .colab-df-convert:hover {\n",
              "      background-color: #E2EBFA;\n",
              "      box-shadow: 0px 1px 2px rgba(60, 64, 67, 0.3), 0px 1px 3px 1px rgba(60, 64, 67, 0.15);\n",
              "      fill: #174EA6;\n",
              "    }\n",
              "\n",
              "    [theme=dark] .colab-df-convert {\n",
              "      background-color: #3B4455;\n",
              "      fill: #D2E3FC;\n",
              "    }\n",
              "\n",
              "    [theme=dark] .colab-df-convert:hover {\n",
              "      background-color: #434B5C;\n",
              "      box-shadow: 0px 1px 3px 1px rgba(0, 0, 0, 0.15);\n",
              "      filter: drop-shadow(0px 1px 2px rgba(0, 0, 0, 0.3));\n",
              "      fill: #FFFFFF;\n",
              "    }\n",
              "  </style>\n",
              "\n",
              "      <script>\n",
              "        const buttonEl =\n",
              "          document.querySelector('#df-aa3e25d0-970a-47ee-8a15-8600b977ee68 button.colab-df-convert');\n",
              "        buttonEl.style.display =\n",
              "          google.colab.kernel.accessAllowed ? 'block' : 'none';\n",
              "\n",
              "        async function convertToInteractive(key) {\n",
              "          const element = document.querySelector('#df-aa3e25d0-970a-47ee-8a15-8600b977ee68');\n",
              "          const dataTable =\n",
              "            await google.colab.kernel.invokeFunction('convertToInteractive',\n",
              "                                                     [key], {});\n",
              "          if (!dataTable) return;\n",
              "\n",
              "          const docLinkHtml = 'Like what you see? Visit the ' +\n",
              "            '<a target=\"_blank\" href=https://colab.research.google.com/notebooks/data_table.ipynb>data table notebook</a>'\n",
              "            + ' to learn more about interactive tables.';\n",
              "          element.innerHTML = '';\n",
              "          dataTable['output_type'] = 'display_data';\n",
              "          await google.colab.output.renderOutput(dataTable, element);\n",
              "          const docLink = document.createElement('div');\n",
              "          docLink.innerHTML = docLinkHtml;\n",
              "          element.appendChild(docLink);\n",
              "        }\n",
              "      </script>\n",
              "    </div>\n",
              "  </div>\n",
              "  "
            ]
          },
          "metadata": {},
          "execution_count": 18
        }
      ]
    },
    {
      "cell_type": "code",
      "source": [
        "# Uses the SVM classifier to perform classification\n",
        "clf_den1 = SVC(kernel=\"linear\")\n",
        "clf_den1.fit(Xtrain_data, ytrain_data)\n",
        "ypred_data_den1 = clf_den1.predict(Xtest_data)\n",
        "\n",
        "# Computes and prints the classification accuracy, f1 scores, confusion matrix\n",
        "acc = accuracy_score(ytest_data, ypred_data_den1)\n",
        "print(\"Accuracy:\", str(round(acc*100, 2)) + \"%\")\n",
        "print(\"F1 score:\", f1_score(ytest_data, ypred_data_den1))\n",
        "print(classification_report(ytest_data, ypred_data_den1))\n",
        "cm = confusion_matrix(ytest_data, ypred_data_den1)\n",
        "print(cm)\n",
        "ConfusionMatrixDisplay(cm).plot(cmap=plt.cm.Blues)\n",
        "plt.show()"
      ],
      "metadata": {
        "colab": {
          "base_uri": "https://localhost:8080/",
          "height": 681
        },
        "id": "egNOWcA3BQ1R",
        "outputId": "da834916-0f56-478a-bda6-e3ef5c549464"
      },
      "execution_count": null,
      "outputs": [
        {
          "output_type": "stream",
          "name": "stdout",
          "text": [
            "Accuracy: 64.5%\n",
            "F1 score: 0.6682242990654205\n",
            "              precision    recall  f1-score   support\n",
            "\n",
            "           0       0.67      0.57      0.62       200\n",
            "           1       0.63      0.71      0.67       200\n",
            "\n",
            "    accuracy                           0.65       400\n",
            "   macro avg       0.65      0.65      0.64       400\n",
            "weighted avg       0.65      0.65      0.64       400\n",
            "\n",
            "[[115  85]\n",
            " [ 57 143]]\n"
          ]
        },
        {
          "output_type": "display_data",
          "data": {
            "text/plain": [
              "<Figure size 640x480 with 2 Axes>"
            ],
            "image/png": "[encoded data removed]"
          },
          "metadata": {}
        }
      ]
    },
    {
      "cell_type": "code",
      "source": [
        "# use random forest classifier\n",
        "clf_den2 = RandomForestClassifier(n_estimators=400, n_jobs=-1)\n",
        "\n",
        "clf_den2.fit(Xtrain_data, ytrain_data)\n",
        "ypred_data_den2 = clf_den2.predict(Xtest_data)\n",
        "\n",
        "acc = accuracy_score(ytest_data, ypred_data_den2)\n",
        "print(\"Accuracy:\", str(round(acc*100, 2)) + \"%\")\n",
        "print(\"F1 score:\", f1_score(ytest_data, ypred_data_den2))\n",
        "print(classification_report(ytest_data, ypred_data_den2))\n",
        "\n",
        "cm = confusion_matrix(ytest_data, ypred_data_den2)\n",
        "print(cm)\n",
        "ConfusionMatrixDisplay(cm).plot(cmap=plt.cm.Blues)\n",
        "plt.show()"
      ],
      "metadata": {
        "colab": {
          "base_uri": "https://localhost:8080/",
          "height": 681
        },
        "id": "4RIy7m2EDsb1",
        "outputId": "c8c15e09-d9d2-49f9-dbb2-023c4b269f3f"
      },
      "execution_count": null,
      "outputs": [
        {
          "output_type": "stream",
          "name": "stdout",
          "text": [
            "Accuracy: 61.0%\n",
            "F1 score: 0.6176470588235293\n",
            "              precision    recall  f1-score   support\n",
            "\n",
            "           0       0.61      0.59      0.60       200\n",
            "           1       0.61      0.63      0.62       200\n",
            "\n",
            "    accuracy                           0.61       400\n",
            "   macro avg       0.61      0.61      0.61       400\n",
            "weighted avg       0.61      0.61      0.61       400\n",
            "\n",
            "[[118  82]\n",
            " [ 74 126]]\n"
          ]
        },
        {
          "output_type": "display_data",
          "data": {
            "text/plain": [
              "<Figure size 640x480 with 2 Axes>"
            ],
            "image/png": "[encoded data removed]"
          },
          "metadata": {}
        }
      ]
    },
    {
      "cell_type": "code",
      "source": [
        "# use logistic regression for classification\n",
        "lr = LogisticRegression(random_state=0).fit(Xtrain_data, ytrain_data)\n",
        "ypred_data_den3 = lr.predict(Xtest_data)\n",
        "acc = accuracy_score(ytest_data, ypred_data_den3)\n",
        "print(\"Accuracy:\", str(round(acc*100, 2)) + \"%\")\n",
        "print(\"F1 score:\", f1_score(ytest_data, ypred_data_den3))\n",
        "print(classification_report(ytest_data, ypred_data_den3))\n",
        "cm = confusion_matrix(ytest_data, ypred_data_den3)\n",
        "print(cm)\n",
        "ConfusionMatrixDisplay(cm).plot(cmap=plt.cm.Blues)\n",
        "plt.show()"
      ],
      "metadata": {
        "colab": {
          "base_uri": "https://localhost:8080/",
          "height": 681
        },
        "id": "epA0C1GfRN_E",
        "outputId": "097c6aff-e080-40f2-a809-b798b7969988"
      },
      "execution_count": null,
      "outputs": [
        {
          "output_type": "stream",
          "name": "stdout",
          "text": [
            "Accuracy: 64.5%\n",
            "F1 score: 0.6570048309178744\n",
            "              precision    recall  f1-score   support\n",
            "\n",
            "           0       0.66      0.61      0.63       200\n",
            "           1       0.64      0.68      0.66       200\n",
            "\n",
            "    accuracy                           0.65       400\n",
            "   macro avg       0.65      0.65      0.64       400\n",
            "weighted avg       0.65      0.65      0.64       400\n",
            "\n",
            "[[122  78]\n",
            " [ 64 136]]\n"
          ]
        },
        {
          "output_type": "display_data",
          "data": {
            "text/plain": [
              "<Figure size 640x480 with 2 Axes>"
            ],
            "image/png": "[encoded data removed]"
          },
          "metadata": {}
        }
      ]
    },
    {
      "cell_type": "markdown",
      "source": [
        "## Using gklearn Weisfeiler-Lehman kernels"
      ],
      "metadata": {
        "id": "bp89uhBWDgv0"
      }
    },
    {
      "cell_type": "code",
      "source": [
        "!pip install graphkit-learn"
      ],
      "metadata": {
        "colab": {
          "base_uri": "https://localhost:8080/"
        },
        "id": "U71kBLCwDjl0",
        "outputId": "92d0c13c-0a5c-4624-c3b6-c13f4749a345"
      },
      "execution_count": null,
      "outputs": [
        {
          "output_type": "stream",
          "name": "stdout",
          "text": [
            "Looking in indexes: https://pypi.org/simple, https://us-python.pkg.dev/colab-wheels/public/simple/\n",
            "Collecting graphkit-learn\n",
            "  Downloading graphkit_learn-0.2.1.post20230420152218-py3-none-any.whl (338 kB)\n",
            "\u001b[2K     \u001b[90m━━━━━━━━━━━━━━━━━━━━━━━━━━━━━━━━━━━━━━\u001b[0m \u001b[32m338.9/338.9 kB\u001b[0m \u001b[31m10.2 MB/s\u001b[0m eta \u001b[36m0:00:00\u001b[0m\n",
            "\u001b[?25hRequirement already satisfied: numpy>=1.16.2 in /usr/local/lib/python3.10/dist-packages (from graphkit-learn) (1.22.4)\n",
            "Requirement already satisfied: scipy>=1.1.0 in /usr/local/lib/python3.10/dist-packages (from graphkit-learn) (1.10.1)\n",
            "Requirement already satisfied: matplotlib>=3.1.0 in /usr/local/lib/python3.10/dist-packages (from graphkit-learn) (3.7.1)\n",
            "Requirement already satisfied: networkx>=2.2 in /usr/local/lib/python3.10/dist-packages (from graphkit-learn) (3.1)\n",
            "Requirement already satisfied: scikit-learn>=1.1.0 in /usr/local/lib/python3.10/dist-packages (from graphkit-learn) (1.2.2)\n",
            "Requirement already satisfied: tabulate>=0.8.2 in /usr/local/lib/python3.10/dist-packages (from graphkit-learn) (0.8.10)\n",
            "Requirement already satisfied: tqdm>=4.26.0 in /usr/local/lib/python3.10/dist-packages (from graphkit-learn) (4.65.0)\n",
            "Collecting control>=0.8.2 (from graphkit-learn)\n",
            "  Downloading control-0.9.3.post2-py3-none-any.whl (432 kB)\n",
            "\u001b[2K     \u001b[90m━━━━━━━━━━━━━━━━━━━━━━━━━━━━━━━━━━━━━━\u001b[0m \u001b[32m432.8/432.8 kB\u001b[0m \u001b[31m36.3 MB/s\u001b[0m eta \u001b[36m0:00:00\u001b[0m\n",
            "\u001b[?25hRequirement already satisfied: cvxopt>=1.2.5 in /usr/local/lib/python3.10/dist-packages (from graphkit-learn) (1.3.0)\n",
            "Collecting mosek>=9.2.5 (from graphkit-learn)\n",
            "  Downloading Mosek-10.0.44-cp310-cp310-manylinux2014_x86_64.whl (12.4 MB)\n",
            "\u001b[2K     \u001b[90m━━━━━━━━━━━━━━━━━━━━━━━━━━━━━━━━━━━━━━━━\u001b[0m \u001b[32m12.4/12.4 MB\u001b[0m \u001b[31m76.5 MB/s\u001b[0m eta \u001b[36m0:00:00\u001b[0m\n",
            "\u001b[?25hRequirement already satisfied: contourpy>=1.0.1 in /usr/local/lib/python3.10/dist-packages (from matplotlib>=3.1.0->graphkit-learn) (1.0.7)\n",
            "Requirement already satisfied: cycler>=0.10 in /usr/local/lib/python3.10/dist-packages (from matplotlib>=3.1.0->graphkit-learn) (0.11.0)\n",
            "Requirement already satisfied: fonttools>=4.22.0 in /usr/local/lib/python3.10/dist-packages (from matplotlib>=3.1.0->graphkit-learn) (4.39.3)\n",
            "Requirement already satisfied: kiwisolver>=1.0.1 in /usr/local/lib/python3.10/dist-packages (from matplotlib>=3.1.0->graphkit-learn) (1.4.4)\n",
            "Requirement already satisfied: packaging>=20.0 in /usr/local/lib/python3.10/dist-packages (from matplotlib>=3.1.0->graphkit-learn) (23.1)\n",
            "Requirement already satisfied: pillow>=6.2.0 in /usr/local/lib/python3.10/dist-packages (from matplotlib>=3.1.0->graphkit-learn) (8.4.0)\n",
            "Requirement already satisfied: pyparsing>=2.3.1 in /usr/local/lib/python3.10/dist-packages (from matplotlib>=3.1.0->graphkit-learn) (3.0.9)\n",
            "Requirement already satisfied: python-dateutil>=2.7 in /usr/local/lib/python3.10/dist-packages (from matplotlib>=3.1.0->graphkit-learn) (2.8.2)\n",
            "Requirement already satisfied: joblib>=1.1.1 in /usr/local/lib/python3.10/dist-packages (from scikit-learn>=1.1.0->graphkit-learn) (1.2.0)\n",
            "Requirement already satisfied: threadpoolctl>=2.0.0 in /usr/local/lib/python3.10/dist-packages (from scikit-learn>=1.1.0->graphkit-learn) (3.1.0)\n",
            "Requirement already satisfied: six>=1.5 in /usr/local/lib/python3.10/dist-packages (from python-dateutil>=2.7->matplotlib>=3.1.0->graphkit-learn) (1.16.0)\n",
            "Installing collected packages: mosek, control, graphkit-learn\n",
            "Successfully installed control-0.9.3.post2 graphkit-learn-0.2.1.post20230420152218 mosek-10.0.44\n"
          ]
        }
      ]
    },
    {
      "cell_type": "code",
      "source": [
        "from gklearn.kernels import weisfeilerlehmankernel"
      ],
      "metadata": {
        "id": "bUm5b6j0Ds4f"
      },
      "execution_count": null,
      "outputs": []
    },
    {
      "cell_type": "code",
      "source": [
        "# create new graphs list of networkx graphs for use in gklearn\n",
        "all_graphs = []\n",
        "graph_labels = []\n",
        "for row in df_balanced.itertuples():\n",
        "  edges = ast.literal_eval(row.Edges)\n",
        "  nodes = ast.literal_eval(row.Nodes)\n",
        "  new_G = nx.Graph()\n",
        "  new_G.add_nodes_from(nodes)\n",
        "  new_G.add_edges_from(edges)\n",
        "  all_graphs.append(new_G)\n",
        "  graph_labels.append(int(row.Labels))"
      ],
      "metadata": {
        "id": "x4KdM-6wD8Ix"
      },
      "execution_count": null,
      "outputs": []
    },
    {
      "cell_type": "code",
      "source": [
        "len(all_graphs), len(graph_labels), all_graphs[0]"
      ],
      "metadata": {
        "colab": {
          "base_uri": "https://localhost:8080/"
        },
        "id": "4dQcDbKwEvd9",
        "outputId": "f86736b5-67e5-4e30-bdf4-2baf193eab95"
      },
      "execution_count": null,
      "outputs": [
        {
          "output_type": "execute_result",
          "data": {
            "text/plain": [
              "(2000, 2000, <networkx.classes.graph.Graph at 0x7fe39dec7b50>)"
            ]
          },
          "metadata": {},
          "execution_count": 34
        }
      ]
    },
    {
      "cell_type": "code",
      "source": [
        "# create the similarity matrix of weisfeiler lehman kernels\n",
        "kernel = weisfeilerlehmankernel(all_graphs, height=1)"
      ],
      "metadata": {
        "colab": {
          "base_uri": "https://localhost:8080/"
        },
        "id": "xDRPXUBoE6mu",
        "outputId": "429c2369-8930-40d3-c18f-ce694815815c"
      },
      "execution_count": null,
      "outputs": [
        {
          "output_type": "stream",
          "name": "stdout",
          "text": [
            "\n",
            " --- Weisfeiler-Lehman subtree kernel matrix of size 2000 built in 81.43391394615173 seconds ---\n"
          ]
        }
      ]
    },
    {
      "cell_type": "code",
      "source": [
        "type(kernel[0])"
      ],
      "metadata": {
        "id": "WlQQmPrnHygu",
        "colab": {
          "base_uri": "https://localhost:8080/"
        },
        "outputId": "90c98346-b510-44d8-87ba-a66c18509eff"
      },
      "execution_count": null,
      "outputs": [
        {
          "output_type": "execute_result",
          "data": {
            "text/plain": [
              "numpy.ndarray"
            ]
          },
          "metadata": {},
          "execution_count": 36
        }
      ]
    },
    {
      "cell_type": "code",
      "source": [
        "# split dataset into 80-20 split\n",
        "wlx_train, wlx_test, wly_train, wly_test = train_test_split(kernel[0], graph_labels, test_size=0.2, random_state=42, stratify=graph_labels)\n",
        "wlx_train"
      ],
      "metadata": {
        "colab": {
          "base_uri": "https://localhost:8080/"
        },
        "id": "KbXs6FGbGOIv",
        "outputId": "17aaa6c8-98c8-4c76-98e6-c40208bb2cf2"
      },
      "execution_count": null,
      "outputs": [
        {
          "output_type": "execute_result",
          "data": {
            "text/plain": [
              "array([[2072., 2146., 2069., ..., 1313., 1129., 1269.],\n",
              "       [1942., 1957., 1956., ..., 1230., 1060., 1196.],\n",
              "       [2011., 1962., 2063., ..., 1218., 1108., 1255.],\n",
              "       ...,\n",
              "       [2164., 2165., 2220., ..., 1380., 1207., 1343.],\n",
              "       [1745., 1799., 1753., ..., 1120.,  959., 1072.],\n",
              "       [2261., 2381., 2255., ..., 1439., 1233., 1384.]])"
            ]
          },
          "metadata": {},
          "execution_count": 37
        }
      ]
    },
    {
      "cell_type": "code",
      "source": [
        "wlx_train.shape, wlx_test.shape"
      ],
      "metadata": {
        "colab": {
          "base_uri": "https://localhost:8080/"
        },
        "id": "pX12NfdqH7r-",
        "outputId": "439287ba-7448-4e53-808a-37531d20bed6"
      },
      "execution_count": null,
      "outputs": [
        {
          "output_type": "execute_result",
          "data": {
            "text/plain": [
              "((1600, 2000), (400, 2000))"
            ]
          },
          "metadata": {},
          "execution_count": 38
        }
      ]
    },
    {
      "cell_type": "code",
      "source": [
        "# reshape train and test to exclude similarity with test graphs\n",
        "wlx_train2 = wlx_train[:, :1600]\n",
        "wlx_test2 = wlx_test[:, :1600]\n",
        "wlx_train2.shape, wlx_test2.shape"
      ],
      "metadata": {
        "colab": {
          "base_uri": "https://localhost:8080/"
        },
        "id": "5Jl0w6PMIBz0",
        "outputId": "365c6c63-bff5-4731-924a-a343578381d8"
      },
      "execution_count": null,
      "outputs": [
        {
          "output_type": "execute_result",
          "data": {
            "text/plain": [
              "((1600, 1600), (400, 1600))"
            ]
          },
          "metadata": {},
          "execution_count": 39
        }
      ]
    },
    {
      "cell_type": "code",
      "source": [
        "wlx_train2[0]"
      ],
      "metadata": {
        "colab": {
          "base_uri": "https://localhost:8080/"
        },
        "id": "h0nPBfAStDAK",
        "outputId": "657f867e-4a4d-4dc3-bd88-1df5796405f9"
      },
      "execution_count": null,
      "outputs": [
        {
          "output_type": "execute_result",
          "data": {
            "text/plain": [
              "array([2072., 2146., 2069., ...,  985.,  737.,  899.])"
            ]
          },
          "metadata": {},
          "execution_count": 40
        }
      ]
    },
    {
      "cell_type": "code",
      "source": [
        "%matplotlib inline\n",
        "\n",
        "clf_wl = RandomForestClassifier(n_estimators=400, n_jobs=-1)\n",
        "\n",
        "clf_wl.fit(wlx_train2, wly_train)\n",
        "ypred_wl = clf_wl.predict(wlx_test2)\n",
        "\n",
        "acc = accuracy_score(wly_test, ypred_wl)\n",
        "print(\"Accuracy:\", str(round(acc*100, 2)) + \"%\")\n",
        "print(\"F1 score:\", f1_score(wly_test, ypred_wl))\n",
        "print(classification_report(wly_test, ypred_wl))\n",
        "cm = confusion_matrix(wly_test, ypred_wl)\n",
        "print(cm)\n",
        "ConfusionMatrixDisplay(cm).plot(cmap=plt.cm.Blues)\n",
        "plt.show()"
      ],
      "metadata": {
        "colab": {
          "base_uri": "https://localhost:8080/",
          "height": 687
        },
        "id": "3ocFq3DyGQMF",
        "outputId": "729463d7-aa3e-4728-ed81-db1a55a3f953"
      },
      "execution_count": null,
      "outputs": [
        {
          "output_type": "stream",
          "name": "stdout",
          "text": [
            "Accuracy: 65.5%\n",
            "F1 score: 0.6698564593301436\n",
            "              precision    recall  f1-score   support\n",
            "\n",
            "           0       0.67      0.61      0.64       200\n",
            "           1       0.64      0.70      0.67       200\n",
            "\n",
            "    accuracy                           0.66       400\n",
            "   macro avg       0.66      0.66      0.65       400\n",
            "weighted avg       0.66      0.66      0.65       400\n",
            "\n",
            "[[122  78]\n",
            " [ 60 140]]\n"
          ]
        },
        {
          "output_type": "display_data",
          "data": {
            "text/plain": [
              "<Figure size 640x480 with 2 Axes>"
            ],
            "image/png": "[encoded data removed]"
          },
          "metadata": {}
        }
      ]
    },
    {
      "cell_type": "code",
      "source": [
        "svc_wl = SVC(kernel=\"rbf\")\n",
        "\n",
        "svc_wl.fit(wlx_train2, wly_train)\n",
        "ypred_svc = svc_wl.predict(wlx_test2)\n",
        "\n",
        "acc = accuracy_score(wly_test, ypred_svc)\n",
        "print(\"Accuracy:\", str(round(acc*100, 2)) + \"%\")\n",
        "print(\"F1 score:\", f1_score(wly_test, ypred_svc))\n",
        "print(classification_report(wly_test, ypred_svc))\n",
        "cm = confusion_matrix(wly_test, ypred_svc)\n",
        "print(cm)\n",
        "ConfusionMatrixDisplay(cm).plot(cmap=plt.cm.Blues)\n",
        "plt.show()"
      ],
      "metadata": {
        "colab": {
          "base_uri": "https://localhost:8080/",
          "height": 681
        },
        "id": "Ptb-ZutWIha4",
        "outputId": "dd713786-2fc3-4b9f-a847-8b802d0fe768"
      },
      "execution_count": null,
      "outputs": [
        {
          "output_type": "stream",
          "name": "stdout",
          "text": [
            "Accuracy: 69.0%\n",
            "F1 score: 0.7244444444444443\n",
            "              precision    recall  f1-score   support\n",
            "\n",
            "           0       0.75      0.56      0.65       200\n",
            "           1       0.65      0.81      0.72       200\n",
            "\n",
            "    accuracy                           0.69       400\n",
            "   macro avg       0.70      0.69      0.69       400\n",
            "weighted avg       0.70      0.69      0.69       400\n",
            "\n",
            "[[113  87]\n",
            " [ 37 163]]\n"
          ]
        },
        {
          "output_type": "display_data",
          "data": {
            "text/plain": [
              "<Figure size 640x480 with 2 Axes>"
            ],
            "image/png": "[encoded data removed]"
          },
          "metadata": {}
        }
      ]
    },
    {
      "cell_type": "code",
      "source": [
        "lr_wl = LogisticRegression(random_state=0, max_iter=500).fit(wlx_train2, wly_train)\n",
        "ypred_lr = lr_wl.predict(wlx_test2)\n",
        "acc = accuracy_score(wly_test, ypred_lr)\n",
        "print(\"Accuracy:\", str(round(acc*100, 2)) + \"%\")\n",
        "print(\"F1 score:\", f1_score(wly_test, ypred_lr))\n",
        "print(classification_report(wly_test, ypred_lr))\n",
        "cm = confusion_matrix(wly_test, ypred_lr)\n",
        "print(cm)\n",
        "ConfusionMatrixDisplay(cm).plot(cmap=plt.cm.Blues)\n",
        "plt.show()"
      ],
      "metadata": {
        "colab": {
          "base_uri": "https://localhost:8080/",
          "height": 824
        },
        "id": "J6onjXy-Zj3n",
        "outputId": "743780cf-fd61-49bb-ef83-c0a29cfba21b"
      },
      "execution_count": null,
      "outputs": [
        {
          "output_type": "stream",
          "name": "stderr",
          "text": [
            "/usr/local/lib/python3.10/dist-packages/sklearn/linear_model/_logistic.py:458: ConvergenceWarning: lbfgs failed to converge (status=1):\n",
            "STOP: TOTAL NO. of ITERATIONS REACHED LIMIT.\n",
            "\n",
            "Increase the number of iterations (max_iter) or scale the data as shown in:\n",
            "    https://scikit-learn.org/stable/modules/preprocessing.html\n",
            "Please also refer to the documentation for alternative solver options:\n",
            "    https://scikit-learn.org/stable/modules/linear_model.html#logistic-regression\n",
            "  n_iter_i = _check_optimize_result(\n"
          ]
        },
        {
          "output_type": "stream",
          "name": "stdout",
          "text": [
            "Accuracy: 62.5%\n",
            "F1 score: 0.5901639344262295\n",
            "              precision    recall  f1-score   support\n",
            "\n",
            "           0       0.61      0.71      0.65       200\n",
            "           1       0.65      0.54      0.59       200\n",
            "\n",
            "    accuracy                           0.62       400\n",
            "   macro avg       0.63      0.62      0.62       400\n",
            "weighted avg       0.63      0.62      0.62       400\n",
            "\n",
            "[[142  58]\n",
            " [ 92 108]]\n"
          ]
        },
        {
          "output_type": "display_data",
          "data": {
            "text/plain": [
              "<Figure size 640x480 with 2 Axes>"
            ],
            "image/png": "[encoded data removed]"
          },
          "metadata": {}
        }
      ]
    },
    {
      "cell_type": "markdown",
      "source": [
        "## Using graph embeddings"
      ],
      "metadata": {
        "id": "IweWx0W_sbQW"
      }
    },
    {
      "cell_type": "code",
      "source": [
        "!pip install karateclub"
      ],
      "metadata": {
        "colab": {
          "base_uri": "https://localhost:8080/"
        },
        "id": "XCzdcQuVsi02",
        "outputId": "59691dcf-ad39-427b-86c6-4a524d21f0dc"
      },
      "execution_count": null,
      "outputs": [
        {
          "output_type": "stream",
          "name": "stdout",
          "text": [
            "Looking in indexes: https://pypi.org/simple, https://us-python.pkg.dev/colab-wheels/public/simple/\n",
            "Requirement already satisfied: karateclub in /usr/local/lib/python3.10/dist-packages (1.3.3)\n",
            "Requirement already satisfied: numpy<1.23.0 in /usr/local/lib/python3.10/dist-packages (from karateclub) (1.22.4)\n",
            "Requirement already satisfied: networkx<2.7 in /usr/local/lib/python3.10/dist-packages (from karateclub) (2.6.3)\n",
            "Requirement already satisfied: decorator==4.4.2 in /usr/local/lib/python3.10/dist-packages (from karateclub) (4.4.2)\n",
            "Requirement already satisfied: tqdm in /usr/local/lib/python3.10/dist-packages (from karateclub) (4.65.0)\n",
            "Requirement already satisfied: python-louvain in /usr/local/lib/python3.10/dist-packages (from karateclub) (0.16)\n",
            "Requirement already satisfied: scikit-learn in /usr/local/lib/python3.10/dist-packages (from karateclub) (1.2.2)\n",
            "Requirement already satisfied: scipy in /usr/local/lib/python3.10/dist-packages (from karateclub) (1.10.1)\n",
            "Requirement already satisfied: pygsp in /usr/local/lib/python3.10/dist-packages (from karateclub) (0.5.1)\n",
            "Requirement already satisfied: gensim>=4.0.0 in /usr/local/lib/python3.10/dist-packages (from karateclub) (4.3.1)\n",
            "Requirement already satisfied: pandas<=1.3.5 in /usr/local/lib/python3.10/dist-packages (from karateclub) (1.3.5)\n",
            "Requirement already satisfied: six in /usr/local/lib/python3.10/dist-packages (from karateclub) (1.16.0)\n",
            "Requirement already satisfied: python-Levenshtein in /usr/local/lib/python3.10/dist-packages (from karateclub) (0.21.0)\n",
            "Requirement already satisfied: smart-open>=1.8.1 in /usr/local/lib/python3.10/dist-packages (from gensim>=4.0.0->karateclub) (6.3.0)\n",
            "Requirement already satisfied: python-dateutil>=2.7.3 in /usr/local/lib/python3.10/dist-packages (from pandas<=1.3.5->karateclub) (2.8.2)\n",
            "Requirement already satisfied: pytz>=2017.3 in /usr/local/lib/python3.10/dist-packages (from pandas<=1.3.5->karateclub) (2022.7.1)\n",
            "Requirement already satisfied: Levenshtein==0.21.0 in /usr/local/lib/python3.10/dist-packages (from python-Levenshtein->karateclub) (0.21.0)\n",
            "Requirement already satisfied: rapidfuzz<4.0.0,>=2.3.0 in /usr/local/lib/python3.10/dist-packages (from Levenshtein==0.21.0->python-Levenshtein->karateclub) (3.0.0)\n",
            "Requirement already satisfied: joblib>=1.1.1 in /usr/local/lib/python3.10/dist-packages (from scikit-learn->karateclub) (1.2.0)\n",
            "Requirement already satisfied: threadpoolctl>=2.0.0 in /usr/local/lib/python3.10/dist-packages (from scikit-learn->karateclub) (3.1.0)\n"
          ]
        }
      ]
    },
    {
      "cell_type": "code",
      "source": [
        "from karateclub import FeatherGraph, Graph2Vec"
      ],
      "metadata": {
        "id": "W5KJB404tJtf"
      },
      "execution_count": null,
      "outputs": []
    },
    {
      "cell_type": "code",
      "source": [
        "# create another new graphs list for karateclub\n",
        "graphs_list_gv = []\n",
        "y = []\n",
        "for row in df_balanced.itertuples():\n",
        "  ls = ast.literal_eval(row.Edges)\n",
        "  tuple_list = [(x[0], x[1]) for x in ls]\n",
        "  node_list = ast.literal_eval(row.Nodes)\n",
        "  dataset1G = nx.Graph()\n",
        "  dataset1G.add_edges_from(tuple_list)\n",
        "  dataset1G.add_nodes_from(node_list)\n",
        "  graphs_list_gv.append(dataset1G)\n",
        "  y.append(row.Labels)\n",
        "\n",
        "print(len(graphs_list_gv), len(y))"
      ],
      "metadata": {
        "colab": {
          "base_uri": "https://localhost:8080/"
        },
        "id": "-yeWAUx3tOpj",
        "outputId": "1909a709-4fb6-408f-ba0b-4a5e45565725"
      },
      "execution_count": null,
      "outputs": [
        {
          "output_type": "stream",
          "name": "stdout",
          "text": [
            "2000 2000\n"
          ]
        }
      ]
    },
    {
      "cell_type": "code",
      "source": [
        "# use Feather graph embeddings first\n",
        "model = FeatherGraph()\n",
        "model.fit(graphs_list_gv)\n",
        "X = model.get_embedding()\n",
        "print(len(X))\n",
        "len(X[0])"
      ],
      "metadata": {
        "colab": {
          "base_uri": "https://localhost:8080/"
        },
        "id": "tKq2tGI9tZX2",
        "outputId": "efcd7956-0742-49cf-fdc8-7ca08502a3f5"
      },
      "execution_count": null,
      "outputs": [
        {
          "output_type": "stream",
          "name": "stdout",
          "text": [
            "2000\n"
          ]
        },
        {
          "output_type": "execute_result",
          "data": {
            "text/plain": [
              "500"
            ]
          },
          "metadata": {},
          "execution_count": 7
        }
      ]
    },
    {
      "cell_type": "code",
      "source": [
        "# split into 80-20 train-test\n",
        "X_train_gv, X_test_gv, y_train_gv, y_test_gv = train_test_split(X, y, test_size=0.2, random_state=42)"
      ],
      "metadata": {
        "id": "hRZF-MoquHkP"
      },
      "execution_count": null,
      "outputs": []
    },
    {
      "cell_type": "code",
      "source": [
        "%matplotlib inline\n",
        "\n",
        "rf_gv = RandomForestClassifier(n_estimators=400, n_jobs=-1).fit(X_train_gv, y_train_gv)\n",
        "y_pred_rf_gv = rf_gv.predict(X_test_gv)\n",
        "\n",
        "acc = accuracy_score(y_test_gv, y_pred_rf_gv)\n",
        "print(\"Accuracy:\", str(round(acc*100, 2)) + \"%\")\n",
        "print(\"F1 score:\", f1_score(y_test_gv, y_pred_rf_gv))\n",
        "print(classification_report(y_test_gv, y_pred_rf_gv))\n",
        "cm = confusion_matrix(y_test_gv, y_pred_rf_gv)\n",
        "print(cm)\n",
        "ConfusionMatrixDisplay(cm).plot(cmap=plt.cm.Blues)\n",
        "plt.show()"
      ],
      "metadata": {
        "colab": {
          "base_uri": "https://localhost:8080/",
          "height": 681
        },
        "outputId": "9c072818-b18d-48bd-9439-2369e32d7331",
        "id": "0QPB_4syu6lL"
      },
      "execution_count": null,
      "outputs": [
        {
          "output_type": "stream",
          "name": "stdout",
          "text": [
            "Accuracy: 65.5%\n",
            "F1 score: 0.6515151515151515\n",
            "              precision    recall  f1-score   support\n",
            "\n",
            "           0       0.65      0.67      0.66       199\n",
            "           1       0.66      0.64      0.65       201\n",
            "\n",
            "    accuracy                           0.66       400\n",
            "   macro avg       0.66      0.66      0.65       400\n",
            "weighted avg       0.66      0.66      0.65       400\n",
            "\n",
            "[[133  66]\n",
            " [ 72 129]]\n"
          ]
        },
        {
          "output_type": "display_data",
          "data": {
            "text/plain": [
              "<Figure size 640x480 with 2 Axes>"
            ],
            "image/png": "[encoded data removed]"
          },
          "metadata": {}
        }
      ]
    },
    {
      "cell_type": "code",
      "source": [
        "svc_gv = SVC(kernel=\"rbf\").fit(X_train_gv, y_train_gv)\n",
        "y_pred_svc_gv = svc_gv.predict(X_test_gv)\n",
        "\n",
        "acc = accuracy_score(y_test_gv, y_pred_svc_gv)\n",
        "print(\"Accuracy:\", str(round(acc*100, 2)) + \"%\")\n",
        "print(\"F1 score:\", f1_score(y_test_gv, y_pred_svc_gv))\n",
        "print(classification_report(y_test_gv, y_pred_svc_gv))\n",
        "cm = confusion_matrix(y_test_gv, y_pred_svc_gv)\n",
        "print(cm)\n",
        "ConfusionMatrixDisplay(cm).plot(cmap=plt.cm.Blues)\n",
        "plt.show()"
      ],
      "metadata": {
        "colab": {
          "base_uri": "https://localhost:8080/",
          "height": 681
        },
        "outputId": "ffb07efe-2270-4933-933b-b31c8e7af54b",
        "id": "NSI9GwZku6lY"
      },
      "execution_count": null,
      "outputs": [
        {
          "output_type": "stream",
          "name": "stdout",
          "text": [
            "Accuracy: 71.75%\n",
            "F1 score: 0.730310262529833\n",
            "              precision    recall  f1-score   support\n",
            "\n",
            "           0       0.74      0.67      0.70       199\n",
            "           1       0.70      0.76      0.73       201\n",
            "\n",
            "    accuracy                           0.72       400\n",
            "   macro avg       0.72      0.72      0.72       400\n",
            "weighted avg       0.72      0.72      0.72       400\n",
            "\n",
            "[[134  65]\n",
            " [ 48 153]]\n"
          ]
        },
        {
          "output_type": "display_data",
          "data": {
            "text/plain": [
              "<Figure size 640x480 with 2 Axes>"
            ],
            "image/png": "[encoded data removed]"
          },
          "metadata": {}
        }
      ]
    },
    {
      "cell_type": "code",
      "source": [
        "lr_gv = LogisticRegression(random_state=0, max_iter=500).fit(X_train_gv, y_train_gv)\n",
        "y_pred_lr_gv = lr_gv.predict(X_test_gv)\n",
        "acc = accuracy_score(y_test_gv, y_pred_lr_gv)\n",
        "print(\"Accuracy:\", str(round(acc*100, 2)) + \"%\")\n",
        "print(\"F1 score:\", f1_score(y_test_gv, y_pred_lr_gv))\n",
        "print(classification_report(y_test_gv, y_pred_lr_gv))\n",
        "cm = confusion_matrix(y_test_gv, y_pred_lr_gv)\n",
        "print(cm)\n",
        "ConfusionMatrixDisplay(cm).plot(cmap=plt.cm.Blues)\n",
        "plt.show()"
      ],
      "metadata": {
        "colab": {
          "base_uri": "https://localhost:8080/",
          "height": 681
        },
        "id": "BtOjEI-nufr6",
        "outputId": "4f62fdca-b01a-4204-eaaf-b4c9d263a79b"
      },
      "execution_count": null,
      "outputs": [
        {
          "output_type": "stream",
          "name": "stdout",
          "text": [
            "Accuracy: 70.25%\n",
            "F1 score: 0.7104622871046229\n",
            "              precision    recall  f1-score   support\n",
            "\n",
            "           0       0.71      0.68      0.69       199\n",
            "           1       0.70      0.73      0.71       201\n",
            "\n",
            "    accuracy                           0.70       400\n",
            "   macro avg       0.70      0.70      0.70       400\n",
            "weighted avg       0.70      0.70      0.70       400\n",
            "\n",
            "[[135  64]\n",
            " [ 55 146]]\n"
          ]
        },
        {
          "output_type": "display_data",
          "data": {
            "text/plain": [
              "<Figure size 640x480 with 2 Axes>"
            ],
            "image/png": "[encoded data removed]"
          },
          "metadata": {}
        }
      ]
    },
    {
      "cell_type": "code",
      "source": [
        "# use Graph2Vec embeddings\n",
        "model2 = Graph2Vec()\n",
        "model2.fit(graphs_list_gv)\n",
        "X2 = model2.get_embedding()\n",
        "print(len(X2))\n",
        "len(X2[0])"
      ],
      "metadata": {
        "colab": {
          "base_uri": "https://localhost:8080/"
        },
        "outputId": "d42dc53e-0ec2-4146-cf0c-836a05cf50e4",
        "id": "O-WuZEF2xPuZ"
      },
      "execution_count": null,
      "outputs": [
        {
          "output_type": "stream",
          "name": "stdout",
          "text": [
            "2000\n"
          ]
        },
        {
          "output_type": "execute_result",
          "data": {
            "text/plain": [
              "128"
            ]
          },
          "metadata": {},
          "execution_count": 46
        }
      ]
    },
    {
      "cell_type": "code",
      "source": [
        "# split into train-test\n",
        "X_train_gv2, X_test_gv2, y_train_gv2, y_test_gv2 = train_test_split(X2, y, test_size=0.20, random_state=42)"
      ],
      "metadata": {
        "id": "AUMx5cOuxPum"
      },
      "execution_count": null,
      "outputs": []
    },
    {
      "cell_type": "code",
      "source": [
        "%matplotlib inline\n",
        "\n",
        "rf_gv2 = RandomForestClassifier(n_estimators=400, n_jobs=-1).fit(X_train_gv2, y_train_gv2)\n",
        "y_pred_rf_gv2 = rf_gv2.predict(X_test_gv2)\n",
        "\n",
        "acc = accuracy_score(y_test_gv2, y_pred_rf_gv2)\n",
        "print(\"Accuracy:\", str(round(acc*100, 2)) + \"%\")\n",
        "print(\"F1 score:\", f1_score(y_test_gv2, y_pred_rf_gv2))\n",
        "print(classification_report(y_test_gv2, y_pred_rf_gv2))\n",
        "cm = confusion_matrix(y_test_gv2, y_pred_rf_gv2)\n",
        "print(cm)\n",
        "ConfusionMatrixDisplay(cm).plot(cmap=plt.cm.Blues)\n",
        "plt.show()"
      ],
      "metadata": {
        "colab": {
          "base_uri": "https://localhost:8080/",
          "height": 681
        },
        "outputId": "936f859d-b75c-410e-90eb-7f2bf12b67bc",
        "id": "cGLwFhwmxPum"
      },
      "execution_count": null,
      "outputs": [
        {
          "output_type": "stream",
          "name": "stdout",
          "text": [
            "Accuracy: 68.0%\n",
            "F1 score: 0.6751269035532995\n",
            "              precision    recall  f1-score   support\n",
            "\n",
            "           0       0.67      0.70      0.68       199\n",
            "           1       0.69      0.66      0.68       201\n",
            "\n",
            "    accuracy                           0.68       400\n",
            "   macro avg       0.68      0.68      0.68       400\n",
            "weighted avg       0.68      0.68      0.68       400\n",
            "\n",
            "[[139  60]\n",
            " [ 68 133]]\n"
          ]
        },
        {
          "output_type": "display_data",
          "data": {
            "text/plain": [
              "<Figure size 640x480 with 2 Axes>"
            ],
            "image/png": "[encoded data removed]"
          },
          "metadata": {}
        }
      ]
    },
    {
      "cell_type": "code",
      "source": [
        "svc_gv2 = SVC(kernel=\"rbf\").fit(X_train_gv2, y_train_gv2)\n",
        "y_pred_svc_gv2 = svc_gv2.predict(X_test_gv2)\n",
        "\n",
        "acc = accuracy_score(y_test_gv2, y_pred_svc_gv2)\n",
        "print(\"Accuracy:\", str(round(acc*100, 2)) + \"%\")\n",
        "print(\"F1 score:\", f1_score(y_test_gv2, y_pred_svc_gv2))\n",
        "print(classification_report(y_test_gv2, y_pred_svc_gv2))\n",
        "cm = confusion_matrix(y_test_gv2, y_pred_svc_gv2)\n",
        "print(cm)\n",
        "ConfusionMatrixDisplay(cm).plot(cmap=plt.cm.Blues)\n",
        "plt.show()"
      ],
      "metadata": {
        "colab": {
          "base_uri": "https://localhost:8080/",
          "height": 681
        },
        "outputId": "e3b7972b-bbec-4a81-9eb0-b6b7fb80b015",
        "id": "K9PRfl_pxPun"
      },
      "execution_count": null,
      "outputs": [
        {
          "output_type": "stream",
          "name": "stdout",
          "text": [
            "Accuracy: 66.25%\n",
            "F1 score: 0.6280991735537191\n",
            "              precision    recall  f1-score   support\n",
            "\n",
            "           0       0.63      0.76      0.69       199\n",
            "           1       0.70      0.57      0.63       201\n",
            "\n",
            "    accuracy                           0.66       400\n",
            "   macro avg       0.67      0.66      0.66       400\n",
            "weighted avg       0.67      0.66      0.66       400\n",
            "\n",
            "[[151  48]\n",
            " [ 87 114]]\n"
          ]
        },
        {
          "output_type": "display_data",
          "data": {
            "text/plain": [
              "<Figure size 640x480 with 2 Axes>"
            ],
            "image/png": "[encoded data removed]"
          },
          "metadata": {}
        }
      ]
    },
    {
      "cell_type": "code",
      "source": [
        "lr_gv2 = LogisticRegression(random_state=0, max_iter=500).fit(X_train_gv2, y_train_gv2)\n",
        "y_pred_lr_gv2 = lr_gv2.predict(X_test_gv2)\n",
        "acc = accuracy_score(y_test_gv2, y_pred_lr_gv2)\n",
        "print(\"Accuracy:\", str(round(acc*100, 2)) + \"%\")\n",
        "print(\"F1 score:\", f1_score(y_test_gv2, y_pred_lr_gv2))\n",
        "print(classification_report(y_test_gv2, y_pred_lr_gv2))\n",
        "cm = confusion_matrix(y_test_gv2, y_pred_lr_gv2)\n",
        "print(cm)\n",
        "ConfusionMatrixDisplay(cm).plot(cmap=plt.cm.Blues)\n",
        "plt.show()"
      ],
      "metadata": {
        "colab": {
          "base_uri": "https://localhost:8080/",
          "height": 681
        },
        "outputId": "758af666-4942-4ac1-bf59-e8683e6bd4e9",
        "id": "UXpQ0cFIxPun"
      },
      "execution_count": null,
      "outputs": [
        {
          "output_type": "stream",
          "name": "stdout",
          "text": [
            "Accuracy: 66.0%\n",
            "F1 score: 0.6304347826086957\n",
            "              precision    recall  f1-score   support\n",
            "\n",
            "           0       0.64      0.74      0.69       199\n",
            "           1       0.69      0.58      0.63       201\n",
            "\n",
            "    accuracy                           0.66       400\n",
            "   macro avg       0.66      0.66      0.66       400\n",
            "weighted avg       0.67      0.66      0.66       400\n",
            "\n",
            "[[148  51]\n",
            " [ 85 116]]\n"
          ]
        },
        {
          "output_type": "display_data",
          "data": {
            "text/plain": [
              "<Figure size 640x480 with 2 Axes>"
            ],
            "image/png": "[encoded data removed]"
          },
          "metadata": {}
        }
      ]
    }
  ]
}