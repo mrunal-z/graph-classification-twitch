{
  "nbformat": 4,
  "nbformat_minor": 0,
  "metadata": {
    "colab": {
      "provenance": []
    },
    "kernelspec": {
      "name": "python3",
      "display_name": "Python 3"
    },
    "language_info": {
      "name": "python"
    }
  },
  "cells": [
    {
      "cell_type": "code",
      "execution_count": 1,
      "metadata": {
        "colab": {
          "base_uri": "https://localhost:8080/"
        },
        "id": "RsDidQXJBoFh",
        "outputId": "161acaf2-e2e6-4ced-bb6e-a270aff766f7"
      },
      "outputs": [
        {
          "output_type": "stream",
          "name": "stdout",
          "text": [
            "\u001b[33mWARNING: Skipping torch-scatter as it is not installed.\u001b[0m\u001b[33m\n",
            "\u001b[0m\u001b[33mWARNING: Skipping torch-sparse as it is not installed.\u001b[0m\u001b[33m\n",
            "\u001b[0m\u001b[33mWARNING: Skipping torch-geometric as it is not installed.\u001b[0m\u001b[33m\n",
            "\u001b[0m\u001b[33mWARNING: Skipping torch-cluster as it is not installed.\u001b[0m\u001b[33m\n",
            "\u001b[0mLooking in indexes: https://pypi.org/simple, https://us-python.pkg.dev/colab-wheels/public/simple/\n",
            "Looking in links: https://data.pyg.org/whl/torch-2.0.0+cu118.html\n",
            "Collecting torch-scatter\n",
            "  Downloading https://data.pyg.org/whl/torch-2.0.0%2Bcu118/torch_scatter-2.1.1%2Bpt20cu118-cp310-cp310-linux_x86_64.whl (10.2 MB)\n",
            "\u001b[2K     \u001b[90m━━━━━━━━━━━━━━━━━━━━━━━━━━━━━━━━━━━━━━━━\u001b[0m \u001b[32m10.2/10.2 MB\u001b[0m \u001b[31m49.8 MB/s\u001b[0m eta \u001b[36m0:00:00\u001b[0m\n",
            "\u001b[?25hInstalling collected packages: torch-scatter\n",
            "Successfully installed torch-scatter-2.1.1+pt20cu118\n",
            "Looking in indexes: https://pypi.org/simple, https://us-python.pkg.dev/colab-wheels/public/simple/\n",
            "Looking in links: https://data.pyg.org/whl/torch-2.0.0+cu118.html\n",
            "Collecting torch-sparse\n",
            "  Downloading https://data.pyg.org/whl/torch-2.0.0%2Bcu118/torch_sparse-0.6.17%2Bpt20cu118-cp310-cp310-linux_x86_64.whl (4.8 MB)\n",
            "\u001b[2K     \u001b[90m━━━━━━━━━━━━━━━━━━━━━━━━━━━━━━━━━━━━━━━━\u001b[0m \u001b[32m4.8/4.8 MB\u001b[0m \u001b[31m55.6 MB/s\u001b[0m eta \u001b[36m0:00:00\u001b[0m\n",
            "\u001b[?25hRequirement already satisfied: scipy in /usr/local/lib/python3.10/dist-packages (from torch-sparse) (1.10.1)\n",
            "Requirement already satisfied: numpy<1.27.0,>=1.19.5 in /usr/local/lib/python3.10/dist-packages (from scipy->torch-sparse) (1.22.4)\n",
            "Installing collected packages: torch-sparse\n",
            "Successfully installed torch-sparse-0.6.17+pt20cu118\n",
            "Looking in indexes: https://pypi.org/simple, https://us-python.pkg.dev/colab-wheels/public/simple/\n",
            "Looking in links: https://data.pyg.org/whl/torch-2.0.0+cu118.html\n",
            "Collecting torch-cluster\n",
            "  Downloading https://data.pyg.org/whl/torch-2.0.0%2Bcu118/torch_cluster-1.6.1%2Bpt20cu118-cp310-cp310-linux_x86_64.whl (3.3 MB)\n",
            "\u001b[2K     \u001b[90m━━━━━━━━━━━━━━━━━━━━━━━━━━━━━━━━━━━━━━━━\u001b[0m \u001b[32m3.3/3.3 MB\u001b[0m \u001b[31m61.6 MB/s\u001b[0m eta \u001b[36m0:00:00\u001b[0m\n",
            "\u001b[?25hRequirement already satisfied: scipy in /usr/local/lib/python3.10/dist-packages (from torch-cluster) (1.10.1)\n",
            "Requirement already satisfied: numpy<1.27.0,>=1.19.5 in /usr/local/lib/python3.10/dist-packages (from scipy->torch-cluster) (1.22.4)\n",
            "Installing collected packages: torch-cluster\n",
            "Successfully installed torch-cluster-1.6.1+pt20cu118\n",
            "Looking in indexes: https://pypi.org/simple, https://us-python.pkg.dev/colab-wheels/public/simple/\n",
            "Collecting git+https://github.com/pyg-team/pytorch_geometric.git\n",
            "  Cloning https://github.com/pyg-team/pytorch_geometric.git to /tmp/pip-req-build-7toeow5m\n",
            "  Running command git clone --filter=blob:none --quiet https://github.com/pyg-team/pytorch_geometric.git /tmp/pip-req-build-7toeow5m\n",
            "  Resolved https://github.com/pyg-team/pytorch_geometric.git to commit 50cbd435d06803e64f3d131ef692499c0cfac09a\n",
            "  Installing build dependencies ... \u001b[?25l\u001b[?25hdone\n",
            "  Getting requirements to build wheel ... \u001b[?25l\u001b[?25hdone\n",
            "  Preparing metadata (pyproject.toml) ... \u001b[?25l\u001b[?25hdone\n",
            "Requirement already satisfied: tqdm in /usr/local/lib/python3.10/dist-packages (from torch_geometric==2.4.0) (4.65.0)\n",
            "Requirement already satisfied: numpy in /usr/local/lib/python3.10/dist-packages (from torch_geometric==2.4.0) (1.22.4)\n",
            "Requirement already satisfied: scipy in /usr/local/lib/python3.10/dist-packages (from torch_geometric==2.4.0) (1.10.1)\n",
            "Requirement already satisfied: jinja2 in /usr/local/lib/python3.10/dist-packages (from torch_geometric==2.4.0) (3.1.2)\n",
            "Requirement already satisfied: requests in /usr/local/lib/python3.10/dist-packages (from torch_geometric==2.4.0) (2.27.1)\n",
            "Requirement already satisfied: pyparsing in /usr/local/lib/python3.10/dist-packages (from torch_geometric==2.4.0) (3.0.9)\n",
            "Requirement already satisfied: scikit-learn in /usr/local/lib/python3.10/dist-packages (from torch_geometric==2.4.0) (1.2.2)\n",
            "Requirement already satisfied: psutil>=5.8.0 in /usr/local/lib/python3.10/dist-packages (from torch_geometric==2.4.0) (5.9.5)\n",
            "Requirement already satisfied: MarkupSafe>=2.0 in /usr/local/lib/python3.10/dist-packages (from jinja2->torch_geometric==2.4.0) (2.1.2)\n",
            "Requirement already satisfied: urllib3<1.27,>=1.21.1 in /usr/local/lib/python3.10/dist-packages (from requests->torch_geometric==2.4.0) (1.26.15)\n",
            "Requirement already satisfied: certifi>=2017.4.17 in /usr/local/lib/python3.10/dist-packages (from requests->torch_geometric==2.4.0) (2022.12.7)\n",
            "Requirement already satisfied: charset-normalizer~=2.0.0 in /usr/local/lib/python3.10/dist-packages (from requests->torch_geometric==2.4.0) (2.0.12)\n",
            "Requirement already satisfied: idna<4,>=2.5 in /usr/local/lib/python3.10/dist-packages (from requests->torch_geometric==2.4.0) (3.4)\n",
            "Requirement already satisfied: joblib>=1.1.1 in /usr/local/lib/python3.10/dist-packages (from scikit-learn->torch_geometric==2.4.0) (1.2.0)\n",
            "Requirement already satisfied: threadpoolctl>=2.0.0 in /usr/local/lib/python3.10/dist-packages (from scikit-learn->torch_geometric==2.4.0) (3.1.0)\n",
            "Building wheels for collected packages: torch_geometric\n",
            "  Building wheel for torch_geometric (pyproject.toml) ... \u001b[?25l\u001b[?25hdone\n",
            "  Created wheel for torch_geometric: filename=torch_geometric-2.4.0-py3-none-any.whl size=928247 sha256=541e797f4ebc8b566f5ed204792d57687766311d4f0d1df55f086e079a134c85\n",
            "  Stored in directory: /tmp/pip-ephem-wheel-cache-5_mstk39/wheels/d3/78/eb/9e26525b948d19533f1688fb6c209cec8a0ba793d39b49ae8f\n",
            "Successfully built torch_geometric\n",
            "Installing collected packages: torch_geometric\n",
            "Successfully installed torch_geometric-2.4.0\n"
          ]
        }
      ],
      "source": [
        "import torch\n",
        "\n",
        "!pip uninstall torch-scatter torch-sparse torch-geometric torch-cluster  --y\n",
        "!pip install torch-scatter -f https://data.pyg.org/whl/torch-{torch.__version__}.html\n",
        "!pip install torch-sparse -f https://data.pyg.org/whl/torch-{torch.__version__}.html\n",
        "!pip install torch-cluster -f https://data.pyg.org/whl/torch-{torch.__version__}.html\n",
        "!pip install git+https://github.com/pyg-team/pytorch_geometric.git"
      ]
    },
    {
      "cell_type": "code",
      "source": [
        "!pip install karateclub"
      ],
      "metadata": {
        "colab": {
          "base_uri": "https://localhost:8080/"
        },
        "id": "KFQcTAeVZWSy",
        "outputId": "b41f1b24-f735-4630-c8de-af6b0a0db0c3"
      },
      "execution_count": 2,
      "outputs": [
        {
          "output_type": "stream",
          "name": "stdout",
          "text": [
            "Looking in indexes: https://pypi.org/simple, https://us-python.pkg.dev/colab-wheels/public/simple/\n",
            "Collecting karateclub\n",
            "  Downloading karateclub-1.3.3.tar.gz (64 kB)\n",
            "\u001b[2K     \u001b[90m━━━━━━━━━━━━━━━━━━━━━━━━━━━━━━━━━━━━━━━━\u001b[0m \u001b[32m64.5/64.5 kB\u001b[0m \u001b[31m6.7 MB/s\u001b[0m eta \u001b[36m0:00:00\u001b[0m\n",
            "\u001b[?25h  Preparing metadata (setup.py) ... \u001b[?25l\u001b[?25hdone\n",
            "Requirement already satisfied: numpy<1.23.0 in /usr/local/lib/python3.10/dist-packages (from karateclub) (1.22.4)\n",
            "Collecting networkx<2.7 (from karateclub)\n",
            "  Downloading networkx-2.6.3-py3-none-any.whl (1.9 MB)\n",
            "\u001b[2K     \u001b[90m━━━━━━━━━━━━━━━━━━━━━━━━━━━━━━━━━━━━━━━━\u001b[0m \u001b[32m1.9/1.9 MB\u001b[0m \u001b[31m71.3 MB/s\u001b[0m eta \u001b[36m0:00:00\u001b[0m\n",
            "\u001b[?25hRequirement already satisfied: decorator==4.4.2 in /usr/local/lib/python3.10/dist-packages (from karateclub) (4.4.2)\n",
            "Requirement already satisfied: tqdm in /usr/local/lib/python3.10/dist-packages (from karateclub) (4.65.0)\n",
            "Requirement already satisfied: python-louvain in /usr/local/lib/python3.10/dist-packages (from karateclub) (0.16)\n",
            "Requirement already satisfied: scikit-learn in /usr/local/lib/python3.10/dist-packages (from karateclub) (1.2.2)\n",
            "Requirement already satisfied: scipy in /usr/local/lib/python3.10/dist-packages (from karateclub) (1.10.1)\n",
            "Collecting pygsp (from karateclub)\n",
            "  Downloading PyGSP-0.5.1-py2.py3-none-any.whl (1.8 MB)\n",
            "\u001b[2K     \u001b[90m━━━━━━━━━━━━━━━━━━━━━━━━━━━━━━━━━━━━━━━━\u001b[0m \u001b[32m1.8/1.8 MB\u001b[0m \u001b[31m71.2 MB/s\u001b[0m eta \u001b[36m0:00:00\u001b[0m\n",
            "\u001b[?25hRequirement already satisfied: gensim>=4.0.0 in /usr/local/lib/python3.10/dist-packages (from karateclub) (4.3.1)\n",
            "Collecting pandas<=1.3.5 (from karateclub)\n",
            "  Downloading pandas-1.3.5-cp310-cp310-manylinux_2_17_x86_64.manylinux2014_x86_64.whl (11.5 MB)\n",
            "\u001b[2K     \u001b[90m━━━━━━━━━━━━━━━━━━━━━━━━━━━━━━━━━━━━━━━━\u001b[0m \u001b[32m11.5/11.5 MB\u001b[0m \u001b[31m79.0 MB/s\u001b[0m eta \u001b[36m0:00:00\u001b[0m\n",
            "\u001b[?25hRequirement already satisfied: six in /usr/local/lib/python3.10/dist-packages (from karateclub) (1.16.0)\n",
            "Collecting python-Levenshtein (from karateclub)\n",
            "  Downloading python_Levenshtein-0.21.0-py3-none-any.whl (9.4 kB)\n",
            "Requirement already satisfied: smart-open>=1.8.1 in /usr/local/lib/python3.10/dist-packages (from gensim>=4.0.0->karateclub) (6.3.0)\n",
            "Requirement already satisfied: python-dateutil>=2.7.3 in /usr/local/lib/python3.10/dist-packages (from pandas<=1.3.5->karateclub) (2.8.2)\n",
            "Requirement already satisfied: pytz>=2017.3 in /usr/local/lib/python3.10/dist-packages (from pandas<=1.3.5->karateclub) (2022.7.1)\n",
            "Collecting Levenshtein==0.21.0 (from python-Levenshtein->karateclub)\n",
            "  Downloading Levenshtein-0.21.0-cp310-cp310-manylinux_2_17_x86_64.manylinux2014_x86_64.whl (174 kB)\n",
            "\u001b[2K     \u001b[90m━━━━━━━━━━━━━━━━━━━━━━━━━━━━━━━━━━━━━━\u001b[0m \u001b[32m174.1/174.1 kB\u001b[0m \u001b[31m18.8 MB/s\u001b[0m eta \u001b[36m0:00:00\u001b[0m\n",
            "\u001b[?25hCollecting rapidfuzz<4.0.0,>=2.3.0 (from Levenshtein==0.21.0->python-Levenshtein->karateclub)\n",
            "  Downloading rapidfuzz-3.0.0-cp310-cp310-manylinux_2_17_x86_64.manylinux2014_x86_64.whl (3.0 MB)\n",
            "\u001b[2K     \u001b[90m━━━━━━━━━━━━━━━━━━━━━━━━━━━━━━━━━━━━━━━━\u001b[0m \u001b[32m3.0/3.0 MB\u001b[0m \u001b[31m37.4 MB/s\u001b[0m eta \u001b[36m0:00:00\u001b[0m\n",
            "\u001b[?25hRequirement already satisfied: joblib>=1.1.1 in /usr/local/lib/python3.10/dist-packages (from scikit-learn->karateclub) (1.2.0)\n",
            "Requirement already satisfied: threadpoolctl>=2.0.0 in /usr/local/lib/python3.10/dist-packages (from scikit-learn->karateclub) (3.1.0)\n",
            "Building wheels for collected packages: karateclub\n",
            "  Building wheel for karateclub (setup.py) ... \u001b[?25l\u001b[?25hdone\n",
            "  Created wheel for karateclub: filename=karateclub-1.3.3-py3-none-any.whl size=101986 sha256=f5c67383ad5cf52bf8c9ccdb43f91ec2fbe97218a40793f7acfb1f34f1cdb96b\n",
            "  Stored in directory: /root/.cache/pip/wheels/62/bd/af/17e7ca6ba0ed144d22502780f5c0660a8e4985939dc6973a81\n",
            "Successfully built karateclub\n",
            "Installing collected packages: rapidfuzz, networkx, pygsp, pandas, Levenshtein, python-Levenshtein, karateclub\n",
            "  Attempting uninstall: networkx\n",
            "    Found existing installation: networkx 3.1\n",
            "    Uninstalling networkx-3.1:\n",
            "      Successfully uninstalled networkx-3.1\n",
            "  Attempting uninstall: pandas\n",
            "    Found existing installation: pandas 1.5.3\n",
            "    Uninstalling pandas-1.5.3:\n",
            "      Successfully uninstalled pandas-1.5.3\n",
            "\u001b[31mERROR: pip's dependency resolver does not currently take into account all the packages that are installed. This behaviour is the source of the following dependency conflicts.\n",
            "google-colab 1.0.0 requires pandas~=1.5.3, but you have pandas 1.3.5 which is incompatible.\u001b[0m\u001b[31m\n",
            "\u001b[0mSuccessfully installed Levenshtein-0.21.0 karateclub-1.3.3 networkx-2.6.3 pandas-1.3.5 pygsp-0.5.1 python-Levenshtein-0.21.0 rapidfuzz-3.0.0\n"
          ]
        }
      ]
    },
    {
      "cell_type": "code",
      "source": [
        "from google.colab import drive\n",
        "drive.mount('/content/drive')"
      ],
      "metadata": {
        "colab": {
          "base_uri": "https://localhost:8080/"
        },
        "id": "rb5fH-k0Ya09",
        "outputId": "10e5b787-6e98-4243-94bc-96c6428ba238"
      },
      "execution_count": 3,
      "outputs": [
        {
          "output_type": "stream",
          "name": "stdout",
          "text": [
            "Mounted at /content/drive\n"
          ]
        }
      ]
    },
    {
      "cell_type": "code",
      "source": [
        "import networkx as nx\n",
        "import torch_geometric.utils as utils\n",
        "import numpy as np\n",
        "import torch_geometric\n",
        "from torch_geometric.data import Data, InMemoryDataset\n",
        "import torch\n",
        "import pandas as pd\n",
        "import ast\n",
        "from karateclub import GraphWave, Role2Vec, Node2Vec\n",
        "from networkx.algorithms.centrality import closeness\n",
        "from torch.utils.data import Dataset\n",
        "import matplotlib.pyplot as plt\n",
        "from sklearn.metrics import classification_report\n",
        "from sklearn.metrics import confusion_matrix, ConfusionMatrixDisplay\n",
        "import matplotlib.pyplot as plt\n",
        "%matplotlib inline"
      ],
      "metadata": {
        "id": "m3YlZ1BoEl4B"
      },
      "execution_count": 4,
      "outputs": []
    },
    {
      "cell_type": "code",
      "source": [
        "from torch.nn import Linear, LeakyReLU\n",
        "import torch.nn.functional as F\n",
        "from torch_geometric.nn import GCNConv\n",
        "from torch_geometric.nn import global_mean_pool, global_max_pool\n",
        "from torch.nn import LayerNorm\n",
        "from torch_geometric.loader import DataLoader"
      ],
      "metadata": {
        "id": "uXd8hLRha-WJ"
      },
      "execution_count": 5,
      "outputs": []
    },
    {
      "cell_type": "code",
      "source": [
        "graph_df = pd.read_csv(\"/content/drive/MyDrive/CS286Potika/balanced_dataset_2000_graphs (1).csv\")"
      ],
      "metadata": {
        "id": "tpia31RhL9_R"
      },
      "execution_count": 6,
      "outputs": []
    },
    {
      "cell_type": "code",
      "source": [
        "graph_df"
      ],
      "metadata": {
        "colab": {
          "base_uri": "https://localhost:8080/",
          "height": 423
        },
        "id": "4aQS1TA_8s9v",
        "outputId": "afa8194a-ae56-4659-c434-087eecf1ac85"
      },
      "execution_count": 7,
      "outputs": [
        {
          "output_type": "execute_result",
          "data": {
            "text/plain": [
              "      GraphID                                              Nodes  \\\n",
              "0        4255  [0, 1, 2, 3, 4, 5, 6, 7, 8, 9, 10, 11, 12, 13,...   \n",
              "1         343  [0, 1, 2, 3, 4, 5, 6, 7, 8, 9, 10, 11, 12, 13,...   \n",
              "2        1319  [0, 1, 2, 3, 4, 5, 6, 7, 8, 9, 10, 11, 12, 13,...   \n",
              "3        2464  [0, 1, 2, 3, 4, 5, 6, 7, 8, 9, 10, 11, 12, 13,...   \n",
              "4        2068     [0, 1, 2, 3, 4, 5, 6, 7, 8, 9, 10, 11, 12, 13]   \n",
              "...       ...                                                ...   \n",
              "1995     8676  [0, 1, 2, 3, 4, 5, 6, 7, 8, 9, 10, 11, 12, 13,...   \n",
              "1996     8938  [0, 1, 2, 3, 4, 5, 6, 7, 8, 9, 10, 11, 12, 13,...   \n",
              "1997     3437  [0, 1, 2, 3, 4, 5, 6, 7, 8, 9, 10, 11, 12, 13,...   \n",
              "1998     1235  [0, 1, 2, 3, 4, 5, 6, 7, 8, 9, 10, 11, 12, 13,...   \n",
              "1999     6299  [0, 1, 2, 3, 4, 5, 6, 7, 8, 9, 10, 11, 12, 13,...   \n",
              "\n",
              "                                                  Edges  Labels  \n",
              "0     [[43, 0], [0, 43], [43, 1], [1, 43], [43, 2], ...       0  \n",
              "1     [[45, 0], [0, 45], [45, 1], [1, 45], [45, 2], ...       0  \n",
              "2     [[43, 0], [0, 43], [43, 1], [1, 43], [43, 2], ...       0  \n",
              "3     [[24, 0], [0, 24], [24, 1], [1, 24], [24, 2], ...       0  \n",
              "4     [[13, 0], [0, 13], [13, 1], [1, 13], [13, 2], ...       0  \n",
              "...                                                 ...     ...  \n",
              "1995  [[18, 0], [0, 18], [18, 1], [1, 18], [18, 2], ...       1  \n",
              "1996  [[41, 0], [0, 41], [41, 1], [1, 41], [41, 2], ...       1  \n",
              "1997  [[27, 0], [0, 27], [27, 1], [1, 27], [27, 2], ...       1  \n",
              "1998  [[23, 0], [0, 23], [23, 1], [1, 23], [23, 2], ...       1  \n",
              "1999  [[26, 0], [0, 26], [26, 1], [1, 26], [26, 2], ...       1  \n",
              "\n",
              "[2000 rows x 4 columns]"
            ],
            "text/html": [
              "\n",
              "  <div id=\"df-41a12936-4681-486e-9f77-45e4146cc4d6\">\n",
              "    <div class=\"colab-df-container\">\n",
              "      <div>\n",
              "<style scoped>\n",
              "    .dataframe tbody tr th:only-of-type {\n",
              "        vertical-align: middle;\n",
              "    }\n",
              "\n",
              "    .dataframe tbody tr th {\n",
              "        vertical-align: top;\n",
              "    }\n",
              "\n",
              "    .dataframe thead th {\n",
              "        text-align: right;\n",
              "    }\n",
              "</style>\n",
              "<table border=\"1\" class=\"dataframe\">\n",
              "  <thead>\n",
              "    <tr style=\"text-align: right;\">\n",
              "      <th></th>\n",
              "      <th>GraphID</th>\n",
              "      <th>Nodes</th>\n",
              "      <th>Edges</th>\n",
              "      <th>Labels</th>\n",
              "    </tr>\n",
              "  </thead>\n",
              "  <tbody>\n",
              "    <tr>\n",
              "      <th>0</th>\n",
              "      <td>4255</td>\n",
              "      <td>[0, 1, 2, 3, 4, 5, 6, 7, 8, 9, 10, 11, 12, 13,...</td>\n",
              "      <td>[[43, 0], [0, 43], [43, 1], [1, 43], [43, 2], ...</td>\n",
              "      <td>0</td>\n",
              "    </tr>\n",
              "    <tr>\n",
              "      <th>1</th>\n",
              "      <td>343</td>\n",
              "      <td>[0, 1, 2, 3, 4, 5, 6, 7, 8, 9, 10, 11, 12, 13,...</td>\n",
              "      <td>[[45, 0], [0, 45], [45, 1], [1, 45], [45, 2], ...</td>\n",
              "      <td>0</td>\n",
              "    </tr>\n",
              "    <tr>\n",
              "      <th>2</th>\n",
              "      <td>1319</td>\n",
              "      <td>[0, 1, 2, 3, 4, 5, 6, 7, 8, 9, 10, 11, 12, 13,...</td>\n",
              "      <td>[[43, 0], [0, 43], [43, 1], [1, 43], [43, 2], ...</td>\n",
              "      <td>0</td>\n",
              "    </tr>\n",
              "    <tr>\n",
              "      <th>3</th>\n",
              "      <td>2464</td>\n",
              "      <td>[0, 1, 2, 3, 4, 5, 6, 7, 8, 9, 10, 11, 12, 13,...</td>\n",
              "      <td>[[24, 0], [0, 24], [24, 1], [1, 24], [24, 2], ...</td>\n",
              "      <td>0</td>\n",
              "    </tr>\n",
              "    <tr>\n",
              "      <th>4</th>\n",
              "      <td>2068</td>\n",
              "      <td>[0, 1, 2, 3, 4, 5, 6, 7, 8, 9, 10, 11, 12, 13]</td>\n",
              "      <td>[[13, 0], [0, 13], [13, 1], [1, 13], [13, 2], ...</td>\n",
              "      <td>0</td>\n",
              "    </tr>\n",
              "    <tr>\n",
              "      <th>...</th>\n",
              "      <td>...</td>\n",
              "      <td>...</td>\n",
              "      <td>...</td>\n",
              "      <td>...</td>\n",
              "    </tr>\n",
              "    <tr>\n",
              "      <th>1995</th>\n",
              "      <td>8676</td>\n",
              "      <td>[0, 1, 2, 3, 4, 5, 6, 7, 8, 9, 10, 11, 12, 13,...</td>\n",
              "      <td>[[18, 0], [0, 18], [18, 1], [1, 18], [18, 2], ...</td>\n",
              "      <td>1</td>\n",
              "    </tr>\n",
              "    <tr>\n",
              "      <th>1996</th>\n",
              "      <td>8938</td>\n",
              "      <td>[0, 1, 2, 3, 4, 5, 6, 7, 8, 9, 10, 11, 12, 13,...</td>\n",
              "      <td>[[41, 0], [0, 41], [41, 1], [1, 41], [41, 2], ...</td>\n",
              "      <td>1</td>\n",
              "    </tr>\n",
              "    <tr>\n",
              "      <th>1997</th>\n",
              "      <td>3437</td>\n",
              "      <td>[0, 1, 2, 3, 4, 5, 6, 7, 8, 9, 10, 11, 12, 13,...</td>\n",
              "      <td>[[27, 0], [0, 27], [27, 1], [1, 27], [27, 2], ...</td>\n",
              "      <td>1</td>\n",
              "    </tr>\n",
              "    <tr>\n",
              "      <th>1998</th>\n",
              "      <td>1235</td>\n",
              "      <td>[0, 1, 2, 3, 4, 5, 6, 7, 8, 9, 10, 11, 12, 13,...</td>\n",
              "      <td>[[23, 0], [0, 23], [23, 1], [1, 23], [23, 2], ...</td>\n",
              "      <td>1</td>\n",
              "    </tr>\n",
              "    <tr>\n",
              "      <th>1999</th>\n",
              "      <td>6299</td>\n",
              "      <td>[0, 1, 2, 3, 4, 5, 6, 7, 8, 9, 10, 11, 12, 13,...</td>\n",
              "      <td>[[26, 0], [0, 26], [26, 1], [1, 26], [26, 2], ...</td>\n",
              "      <td>1</td>\n",
              "    </tr>\n",
              "  </tbody>\n",
              "</table>\n",
              "<p>2000 rows × 4 columns</p>\n",
              "</div>\n",
              "      <button class=\"colab-df-convert\" onclick=\"convertToInteractive('df-41a12936-4681-486e-9f77-45e4146cc4d6')\"\n",
              "              title=\"Convert this dataframe to an interactive table.\"\n",
              "              style=\"display:none;\">\n",
              "        \n",
              "  <svg xmlns=\"http://www.w3.org/2000/svg\" height=\"24px\"viewBox=\"0 0 24 24\"\n",
              "       width=\"24px\">\n",
              "    <path d=\"M0 0h24v24H0V0z\" fill=\"none\"/>\n",
              "    <path d=\"M18.56 5.44l.94 2.06.94-2.06 2.06-.94-2.06-.94-.94-2.06-.94 2.06-2.06.94zm-11 1L8.5 8.5l.94-2.06 2.06-.94-2.06-.94L8.5 2.5l-.94 2.06-2.06.94zm10 10l.94 2.06.94-2.06 2.06-.94-2.06-.94-.94-2.06-.94 2.06-2.06.94z\"/><path d=\"M17.41 7.96l-1.37-1.37c-.4-.4-.92-.59-1.43-.59-.52 0-1.04.2-1.43.59L10.3 9.45l-7.72 7.72c-.78.78-.78 2.05 0 2.83L4 21.41c.39.39.9.59 1.41.59.51 0 1.02-.2 1.41-.59l7.78-7.78 2.81-2.81c.8-.78.8-2.07 0-2.86zM5.41 20L4 18.59l7.72-7.72 1.47 1.35L5.41 20z\"/>\n",
              "  </svg>\n",
              "      </button>\n",
              "      \n",
              "  <style>\n",
              "    .colab-df-container {\n",
              "      display:flex;\n",
              "      flex-wrap:wrap;\n",
              "      gap: 12px;\n",
              "    }\n",
              "\n",
              "    .colab-df-convert {\n",
              "      background-color: #E8F0FE;\n",
              "      border: none;\n",
              "      border-radius: 50%;\n",
              "      cursor: pointer;\n",
              "      display: none;\n",
              "      fill: #1967D2;\n",
              "      height: 32px;\n",
              "      padding: 0 0 0 0;\n",
              "      width: 32px;\n",
              "    }\n",
              "\n",
              "    .colab-df-convert:hover {\n",
              "      background-color: #E2EBFA;\n",
              "      box-shadow: 0px 1px 2px rgba(60, 64, 67, 0.3), 0px 1px 3px 1px rgba(60, 64, 67, 0.15);\n",
              "      fill: #174EA6;\n",
              "    }\n",
              "\n",
              "    [theme=dark] .colab-df-convert {\n",
              "      background-color: #3B4455;\n",
              "      fill: #D2E3FC;\n",
              "    }\n",
              "\n",
              "    [theme=dark] .colab-df-convert:hover {\n",
              "      background-color: #434B5C;\n",
              "      box-shadow: 0px 1px 3px 1px rgba(0, 0, 0, 0.15);\n",
              "      filter: drop-shadow(0px 1px 2px rgba(0, 0, 0, 0.3));\n",
              "      fill: #FFFFFF;\n",
              "    }\n",
              "  </style>\n",
              "\n",
              "      <script>\n",
              "        const buttonEl =\n",
              "          document.querySelector('#df-41a12936-4681-486e-9f77-45e4146cc4d6 button.colab-df-convert');\n",
              "        buttonEl.style.display =\n",
              "          google.colab.kernel.accessAllowed ? 'block' : 'none';\n",
              "\n",
              "        async function convertToInteractive(key) {\n",
              "          const element = document.querySelector('#df-41a12936-4681-486e-9f77-45e4146cc4d6');\n",
              "          const dataTable =\n",
              "            await google.colab.kernel.invokeFunction('convertToInteractive',\n",
              "                                                     [key], {});\n",
              "          if (!dataTable) return;\n",
              "\n",
              "          const docLinkHtml = 'Like what you see? Visit the ' +\n",
              "            '<a target=\"_blank\" href=https://colab.research.google.com/notebooks/data_table.ipynb>data table notebook</a>'\n",
              "            + ' to learn more about interactive tables.';\n",
              "          element.innerHTML = '';\n",
              "          dataTable['output_type'] = 'display_data';\n",
              "          await google.colab.output.renderOutput(dataTable, element);\n",
              "          const docLink = document.createElement('div');\n",
              "          docLink.innerHTML = docLinkHtml;\n",
              "          element.appendChild(docLink);\n",
              "        }\n",
              "      </script>\n",
              "    </div>\n",
              "  </div>\n",
              "  "
            ]
          },
          "metadata": {},
          "execution_count": 7
        }
      ]
    },
    {
      "cell_type": "code",
      "source": [
        "graph_df = graph_df.sample(frac=1)"
      ],
      "metadata": {
        "id": "231EBquQv1G4"
      },
      "execution_count": 8,
      "outputs": []
    },
    {
      "cell_type": "markdown",
      "source": [
        "### Creating graphs with centralities as features\n"
      ],
      "metadata": {
        "id": "Kx6H8wCoaJjd"
      }
    },
    {
      "cell_type": "code",
      "source": [
        "graph_list= []\n",
        "i=0\n",
        "for row in graph_df.itertuples():\n",
        "  if i == 2000:\n",
        "    break\n",
        "  ls = ast.literal_eval(row.Edges)\n",
        "  tuple_list = [(x[0], x[1]) for x in ls]\n",
        "  node_list = ast.literal_eval(row.Nodes)\n",
        "  dataset1G = nx.Graph()\n",
        "  dataset1G.add_edges_from(tuple_list)\n",
        "  dataset1G.add_nodes_from(node_list)\n",
        "  closeness = nx.closeness_centrality(dataset1G)\n",
        "  betweenness = nx.betweenness_centrality(dataset1G)\n",
        "  closeness_values = list(closeness.values())\n",
        "  betweenness_values = list(betweenness.values())\n",
        "  feature_vec = []\n",
        "  for j in range(0,len(closeness)):\n",
        "    feature_vec.append([closeness_values[j],betweenness_values[j]])\n",
        "  x = torch.tensor(feature_vec, dtype = torch.float)\n",
        "  temp_var = (int(row.Labels))\n",
        "\n",
        "  dataset1G.graph['y'] = [temp_var]\n",
        "\n",
        "  Graph_for_dataset = utils.from_networkx(dataset1G)\n",
        "  Graph_for_dataset.x = x\n",
        "  graph_list.append(Graph_for_dataset)\n",
        "  i+=1"
      ],
      "metadata": {
        "id": "g5gwEwLJ57DQ"
      },
      "execution_count": 9,
      "outputs": []
    },
    {
      "cell_type": "markdown",
      "source": [
        "### Creating Graphs using Role2vec, GraphWave for feature creation."
      ],
      "metadata": {
        "id": "ZmEQGoVUajUg"
      }
    },
    {
      "cell_type": "code",
      "source": [
        "model1 = GraphWave()\n",
        "model2 = Role2Vec(walk_length=20)\n",
        "model3 = Node2Vec(walk_length=20)\n",
        "\n",
        "\n",
        "graph_list_2 = []\n",
        "i=0\n",
        "for row in graph_df.itertuples():\n",
        "  if i == 2000:\n",
        "    break\n",
        "  ls = ast.literal_eval(row.Edges)\n",
        "  tuple_list = [(x[0], x[1]) for x in ls]\n",
        "  node_list = ast.literal_eval(row.Nodes)\n",
        "  dataset1G = nx.Graph()\n",
        "  dataset1G.add_edges_from(tuple_list)\n",
        "  dataset1G.add_nodes_from(node_list)\n",
        "\n",
        "  model2.fit(dataset1G)\n",
        "  feature_vec = model2.get_embedding()\n",
        "\n",
        "  x = torch.tensor(feature_vec, dtype = torch.float)\n",
        "  temp_var = (int(row.Labels))\n",
        "\n",
        "  dataset1G.graph['y'] = [temp_var]\n",
        "\n",
        "  Graph_for_dataset = utils.from_networkx(dataset1G)\n",
        "  Graph_for_dataset.x = x\n",
        "\n",
        "  graph_list_2.append(Graph_for_dataset)\n",
        "  i+=1"
      ],
      "metadata": {
        "id": "dcQ9r6Nr-Kvc"
      },
      "execution_count": 10,
      "outputs": []
    },
    {
      "cell_type": "markdown",
      "source": [
        "Defining the GCN.\n",
        "(Note:Please change the dimensions in the initial GCNConv layer based on the node feature matrix)"
      ],
      "metadata": {
        "id": "5xfOPqwideZg"
      }
    },
    {
      "cell_type": "code",
      "source": [
        "class GCN(torch.nn.Module):\n",
        "    def __init__(self, hidden_channels):\n",
        "        super(GCN, self).__init__()\n",
        "        torch.manual_seed(12347)\n",
        "        self.conv1 = GCNConv(128, hidden_channels)\n",
        "        self.ln1 = LayerNorm(hidden_channels)\n",
        "        self.conv2 = GCNConv(hidden_channels, hidden_channels)\n",
        "        self.ln2 = LayerNorm(hidden_channels)\n",
        "        self.conv3 = GCNConv(hidden_channels, hidden_channels)\n",
        "        self.lin = Linear(hidden_channels, 2)\n",
        "\n",
        "    def forward(self, x, edge_index, batch):\n",
        "        # 1. Obtain node embeddings \n",
        "        x = self.conv1(x, edge_index)\n",
        "        x = self.ln1(x)\n",
        "        x = F.leaky_relu(x)\n",
        "        x = F.dropout(x, p=0.3, training=self.training)\n",
        "\n",
        "        x = self.conv2(x, edge_index)\n",
        "        x = self.ln2(x)\n",
        "        x = F.leaky_relu(x)\n",
        "        x = F.dropout(x, p = 0.3, training=self.training)\n",
        "\n",
        "        x = self.conv3(x, edge_index)\n",
        "\n",
        "        # 2. Readout layer\n",
        "        x = global_mean_pool(x, batch)  # [batch_size, hidden_channels]\n",
        "\n",
        "        # 3. Apply a final classifier\n",
        "        x = F.dropout(x, p=0.5, training=self.training)\n",
        "        x = self.lin(x)\n",
        "        \n",
        "        return x\n",
        "        # return F.log_softmax(x, dim=1)\n",
        "\n",
        "model = GCN(hidden_channels=64)\n",
        "print(model)"
      ],
      "metadata": {
        "id": "Ooh-cmy_GCrR",
        "colab": {
          "base_uri": "https://localhost:8080/"
        },
        "outputId": "10bcd5ee-ca3b-4e1c-8f41-1a43c19e77da"
      },
      "execution_count": 17,
      "outputs": [
        {
          "output_type": "stream",
          "name": "stdout",
          "text": [
            "GCN(\n",
            "  (conv1): GCNConv(128, 64)\n",
            "  (ln1): LayerNorm((64,), eps=1e-05, elementwise_affine=True)\n",
            "  (conv2): GCNConv(64, 64)\n",
            "  (ln2): LayerNorm((64,), eps=1e-05, elementwise_affine=True)\n",
            "  (conv3): GCNConv(64, 64)\n",
            "  (lin): Linear(in_features=64, out_features=2, bias=True)\n",
            ")\n"
          ]
        }
      ]
    },
    {
      "cell_type": "code",
      "source": [
        "train_dataset = graph_list_2[:1600]\n",
        "test_dataset = graph_list_2[1600:]"
      ],
      "metadata": {
        "id": "pXc5zEZdbEj0"
      },
      "execution_count": 12,
      "outputs": []
    },
    {
      "cell_type": "markdown",
      "source": [
        "Loading graphs in dataloaders"
      ],
      "metadata": {
        "id": "4NgU35WcbUJ3"
      }
    },
    {
      "cell_type": "code",
      "source": [
        "train_loader = DataLoader(train_dataset, batch_size = 64)\n",
        "test_loader = DataLoader(test_dataset, batch_size = 64)"
      ],
      "metadata": {
        "id": "0kiypvfQ6vim"
      },
      "execution_count": 13,
      "outputs": []
    },
    {
      "cell_type": "code",
      "source": [
        "for batch in test_loader:\n",
        "  print(batch)"
      ],
      "metadata": {
        "colab": {
          "base_uri": "https://localhost:8080/"
        },
        "id": "T2rx7_U57zHY",
        "outputId": "b91e5847-1567-4f14-b3c3-1cf59eadbb70"
      },
      "execution_count": 14,
      "outputs": [
        {
          "output_type": "stream",
          "name": "stdout",
          "text": [
            "DataBatch(edge_index=[2, 12832], y=[64], num_nodes=1938, x=[1938, 128], batch=[1938], ptr=[65])\n",
            "DataBatch(edge_index=[2, 12794], y=[64], num_nodes=1894, x=[1894, 128], batch=[1894], ptr=[65])\n",
            "DataBatch(edge_index=[2, 12741], y=[64], num_nodes=1927, x=[1927, 128], batch=[1927], ptr=[65])\n",
            "DataBatch(edge_index=[2, 14148], y=[64], num_nodes=1928, x=[1928, 128], batch=[1928], ptr=[65])\n",
            "DataBatch(edge_index=[2, 13986], y=[64], num_nodes=1934, x=[1934, 128], batch=[1934], ptr=[65])\n",
            "DataBatch(edge_index=[2, 15439], y=[64], num_nodes=1993, x=[1993, 128], batch=[1993], ptr=[65])\n",
            "DataBatch(edge_index=[2, 2317], y=[16], num_nodes=417, x=[417, 128], batch=[417], ptr=[17])\n"
          ]
        }
      ]
    },
    {
      "cell_type": "code",
      "source": [
        "model = GCN(hidden_channels=64)\n",
        "optimizer = torch.optim.Adam(model.parameters(), lr=0.008)\n",
        "criterion = torch.nn.CrossEntropyLoss()\n",
        "print(model)"
      ],
      "metadata": {
        "id": "13niI_PcGTz0",
        "colab": {
          "base_uri": "https://localhost:8080/"
        },
        "outputId": "fa3b63a4-ddc7-4cd8-fea9-28b486d5f271"
      },
      "execution_count": 18,
      "outputs": [
        {
          "output_type": "stream",
          "name": "stdout",
          "text": [
            "GCN(\n",
            "  (conv1): GCNConv(128, 64)\n",
            "  (ln1): LayerNorm((64,), eps=1e-05, elementwise_affine=True)\n",
            "  (conv2): GCNConv(64, 64)\n",
            "  (ln2): LayerNorm((64,), eps=1e-05, elementwise_affine=True)\n",
            "  (conv3): GCNConv(64, 64)\n",
            "  (lin): Linear(in_features=64, out_features=2, bias=True)\n",
            ")\n"
          ]
        }
      ]
    },
    {
      "cell_type": "code",
      "source": [
        "def train():\n",
        "    model.train()\n",
        "\n",
        "    for data in train_loader:  # Iterate in batches over the training dataset.\n",
        "         out = model(data.x, data.edge_index, data.batch)  # Perform a single forward pass.\n",
        "         loss = criterion(out, data.y)  # Compute the loss.\n",
        "         loss.backward()  # Derive gradients.\n",
        "         optimizer.step()  # Update parameters based on gradients.\n",
        "         optimizer.zero_grad()  # Clear gradients.\n",
        "\n",
        "\n",
        "\n",
        "def test(loader):\n",
        "     model.eval()\n",
        "\n",
        "     correct = 0\n",
        "     for data in loader:  # Iterate in batches over the training/test dataset.\n",
        "         out = model(data.x, data.edge_index, data.batch)  \n",
        "         pred = out.argmax(dim=1)  # Use the class with highest probability.\n",
        "         correct += int((pred == data.y).sum())  # Check against ground-truth labels.\n",
        "     return correct / len(loader.dataset)  # Derive ratio of correct predictions.\n",
        "\n",
        "\n",
        "all_train = []\n",
        "all_test = []\n",
        "for epoch in range(1, 75):\n",
        "    train()\n",
        "    train_acc = test(train_loader)\n",
        "    all_train.append(train_acc)\n",
        "    test_acc = test(test_loader)\n",
        "    all_test.append(test_acc)\n",
        "    print(f'Train accuracy : {train_acc}, Test accuracy : {test_acc}')\n",
        "\n",
        "plt.plot(all_train, label=\"Train accuracy\")\n",
        "plt.plot(all_test, label=\"Validation accuracy\")\n",
        "plt.xlabel(\"# Epoch\")\n",
        "plt.ylabel(\"Accuracy\")\n",
        "plt.legend(loc='upper right')\n",
        "plt.show()"
      ],
      "metadata": {
        "colab": {
          "base_uri": "https://localhost:8080/",
          "height": 1000
        },
        "id": "1J2ktSX6Gaeq",
        "outputId": "0c1bd573-cbc0-450b-f8bd-3dfe52d41b6c"
      },
      "execution_count": 19,
      "outputs": [
        {
          "output_type": "stream",
          "name": "stdout",
          "text": [
            "Train accuracy : 0.5025, Test accuracy : 0.49\n",
            "Train accuracy : 0.5025, Test accuracy : 0.49\n",
            "Train accuracy : 0.505, Test accuracy : 0.49\n",
            "Train accuracy : 0.506875, Test accuracy : 0.49\n",
            "Train accuracy : 0.50625, Test accuracy : 0.49\n",
            "Train accuracy : 0.651875, Test accuracy : 0.6725\n",
            "Train accuracy : 0.5075, Test accuracy : 0.49\n",
            "Train accuracy : 0.636875, Test accuracy : 0.615\n",
            "Train accuracy : 0.504375, Test accuracy : 0.49\n",
            "Train accuracy : 0.508125, Test accuracy : 0.4925\n",
            "Train accuracy : 0.63375, Test accuracy : 0.6525\n",
            "Train accuracy : 0.605, Test accuracy : 0.5975\n",
            "Train accuracy : 0.631875, Test accuracy : 0.62\n",
            "Train accuracy : 0.658125, Test accuracy : 0.65\n",
            "Train accuracy : 0.60875, Test accuracy : 0.6\n",
            "Train accuracy : 0.618125, Test accuracy : 0.6075\n",
            "Train accuracy : 0.64, Test accuracy : 0.635\n",
            "Train accuracy : 0.656875, Test accuracy : 0.6575\n",
            "Train accuracy : 0.640625, Test accuracy : 0.645\n",
            "Train accuracy : 0.625625, Test accuracy : 0.6175\n",
            "Train accuracy : 0.63125, Test accuracy : 0.6225\n",
            "Train accuracy : 0.611875, Test accuracy : 0.61\n",
            "Train accuracy : 0.65875, Test accuracy : 0.6625\n",
            "Train accuracy : 0.643125, Test accuracy : 0.635\n",
            "Train accuracy : 0.614375, Test accuracy : 0.61\n",
            "Train accuracy : 0.64375, Test accuracy : 0.635\n",
            "Train accuracy : 0.628125, Test accuracy : 0.6225\n",
            "Train accuracy : 0.640625, Test accuracy : 0.6325\n",
            "Train accuracy : 0.64625, Test accuracy : 0.6375\n",
            "Train accuracy : 0.62125, Test accuracy : 0.6125\n",
            "Train accuracy : 0.648125, Test accuracy : 0.65\n",
            "Train accuracy : 0.653125, Test accuracy : 0.6475\n",
            "Train accuracy : 0.6425, Test accuracy : 0.63\n",
            "Train accuracy : 0.64375, Test accuracy : 0.635\n",
            "Train accuracy : 0.64125, Test accuracy : 0.635\n",
            "Train accuracy : 0.6425, Test accuracy : 0.635\n",
            "Train accuracy : 0.64875, Test accuracy : 0.6375\n",
            "Train accuracy : 0.646875, Test accuracy : 0.6325\n",
            "Train accuracy : 0.645, Test accuracy : 0.6325\n",
            "Train accuracy : 0.620625, Test accuracy : 0.62\n",
            "Train accuracy : 0.65875, Test accuracy : 0.6575\n",
            "Train accuracy : 0.631875, Test accuracy : 0.6175\n",
            "Train accuracy : 0.6525, Test accuracy : 0.65\n",
            "Train accuracy : 0.65625, Test accuracy : 0.6575\n",
            "Train accuracy : 0.625625, Test accuracy : 0.6175\n",
            "Train accuracy : 0.64125, Test accuracy : 0.625\n",
            "Train accuracy : 0.659375, Test accuracy : 0.6525\n",
            "Train accuracy : 0.631875, Test accuracy : 0.6175\n",
            "Train accuracy : 0.6325, Test accuracy : 0.6225\n",
            "Train accuracy : 0.64, Test accuracy : 0.625\n",
            "Train accuracy : 0.633125, Test accuracy : 0.6175\n",
            "Train accuracy : 0.646875, Test accuracy : 0.6375\n",
            "Train accuracy : 0.633125, Test accuracy : 0.61\n",
            "Train accuracy : 0.65875, Test accuracy : 0.65\n",
            "Train accuracy : 0.65, Test accuracy : 0.6325\n",
            "Train accuracy : 0.645625, Test accuracy : 0.6275\n",
            "Train accuracy : 0.64875, Test accuracy : 0.6325\n",
            "Train accuracy : 0.65, Test accuracy : 0.6375\n",
            "Train accuracy : 0.6475, Test accuracy : 0.63\n",
            "Train accuracy : 0.6325, Test accuracy : 0.6275\n",
            "Train accuracy : 0.643125, Test accuracy : 0.63\n",
            "Train accuracy : 0.635625, Test accuracy : 0.6275\n",
            "Train accuracy : 0.64125, Test accuracy : 0.62\n",
            "Train accuracy : 0.636875, Test accuracy : 0.615\n",
            "Train accuracy : 0.651875, Test accuracy : 0.645\n",
            "Train accuracy : 0.645625, Test accuracy : 0.625\n",
            "Train accuracy : 0.64375, Test accuracy : 0.63\n",
            "Train accuracy : 0.661875, Test accuracy : 0.655\n",
            "Train accuracy : 0.635625, Test accuracy : 0.615\n",
            "Train accuracy : 0.659375, Test accuracy : 0.6475\n",
            "Train accuracy : 0.62625, Test accuracy : 0.6175\n",
            "Train accuracy : 0.63375, Test accuracy : 0.625\n",
            "Train accuracy : 0.629375, Test accuracy : 0.615\n",
            "Train accuracy : 0.65875, Test accuracy : 0.65\n"
          ]
        },
        {
          "output_type": "display_data",
          "data": {
            "text/plain": [
              "<Figure size 640x480 with 1 Axes>"
            ],
            "image/png": "[encoded data removed]"
          },
          "metadata": {}
        }
      ]
    },
    {
      "cell_type": "markdown",
      "source": [
        "Getting the final predictions from the model"
      ],
      "metadata": {
        "id": "DDutk6UVb2Bz"
      }
    },
    {
      "cell_type": "code",
      "source": [
        "model.eval()\n",
        "y_pred = []\n",
        "correct = 0\n",
        "for data in test_loader:  # Iterate in batches over the training/test dataset.\n",
        "    out = model(data.x, data.edge_index, data.batch)  \n",
        "    pred = out.argmax(dim=1)  # Use the class with highest probability.\n",
        "    y_pred.append(pred)"
      ],
      "metadata": {
        "id": "e5aKbLS98Rog"
      },
      "execution_count": 20,
      "outputs": []
    },
    {
      "cell_type": "code",
      "source": [
        "check = []\n",
        "for tensor in y_pred:\n",
        "  tensor = np.array(tensor)\n",
        "  check = np.concatenate([check,tensor])\n",
        "original_y = graph_df['Labels'].iloc[1600:]"
      ],
      "metadata": {
        "id": "crO-yA9H8_V1"
      },
      "execution_count": 21,
      "outputs": []
    },
    {
      "cell_type": "code",
      "source": [
        "cm = confusion_matrix(original_y.values, check)\n",
        "print(cm)\n",
        "ConfusionMatrixDisplay(cm).plot(cmap=plt.cm.Blues)\n",
        "plt.show()"
      ],
      "metadata": {
        "id": "EMlZWtVTTv6N",
        "colab": {
          "base_uri": "https://localhost:8080/",
          "height": 484
        },
        "outputId": "b9e28fc6-d4ab-4b3c-8cec-3a5dfdc59dd7"
      },
      "execution_count": 22,
      "outputs": [
        {
          "output_type": "stream",
          "name": "stdout",
          "text": [
            "[[138  58]\n",
            " [ 82 122]]\n"
          ]
        },
        {
          "output_type": "display_data",
          "data": {
            "text/plain": [
              "<Figure size 640x480 with 2 Axes>"
            ],
            "image/png": "[encoded data removed]"
          },
          "metadata": {}
        }
      ]
    },
    {
      "cell_type": "code",
      "source": [
        "print(classification_report(original_y.values, check))"
      ],
      "metadata": {
        "colab": {
          "base_uri": "https://localhost:8080/"
        },
        "id": "CQNiHkyN-68t",
        "outputId": "53b0c9c0-d145-4e4d-9abe-cff14d38f363"
      },
      "execution_count": 23,
      "outputs": [
        {
          "output_type": "stream",
          "name": "stdout",
          "text": [
            "              precision    recall  f1-score   support\n",
            "\n",
            "           0       0.63      0.70      0.66       196\n",
            "           1       0.68      0.60      0.64       204\n",
            "\n",
            "    accuracy                           0.65       400\n",
            "   macro avg       0.65      0.65      0.65       400\n",
            "weighted avg       0.65      0.65      0.65       400\n",
            "\n"
          ]
        }
      ]
    }
  ]
}